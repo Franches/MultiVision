{
 "cells": [
  {
   "cell_type": "markdown",
   "metadata": {},
   "source": [
    "# Chart Recommender\n",
    "This file provides an example of running the chart recommender, including the single chart recommender and the multiple-charts recommender.     \n",
    "The input is a data table in Pandas.DataFrame.  \n",
    "\n",
    "### Single-Chart Recommender\n",
    "The output is the recommended charts, described by the column selection and chart type.     \n",
    "\n",
    "### MV Recommender\n",
    "The output is the recommended MVs, described as a list of charts.\n",
    "\n",
    "Notes of limitations:\n",
    "- A chart can encode a max number of 4 data columns.\n",
    "- A MV can have a max number of 12 charts.\n",
    "- The predicted chart type is limited to ('area', 'bar', 'scatter', 'line', 'pie')"
   ]
  },
  {
   "cell_type": "code",
   "execution_count": 1,
   "metadata": {},
   "outputs": [],
   "source": [
    "import pandas as pd\n",
    "import json\n",
    "import numpy as np\n",
    "import itertools\n",
    "import sys\n",
    "import re\n",
    "import altair as alt\n",
    "\n",
    "import torch\n",
    "from torch.nn.utils.rnn import pack_padded_sequence, pad_packed_sequence\n",
    "from torch.autograd import Variable\n",
    "import torch.nn.functional as nnf\n",
    "\n",
    "from model.encodingModel import ChartTypeNN, ChartTypeLSTM, ScoreNetLSTM\n",
    "# from utils.helper import softmax, get_data_feature_by_column, get_embed_feature_by_column, get_all_charts_scores, charts_to_features\n",
    "from utils.ChartRecommender import ChartRecommender\n",
    "from utils.VegaLiteRender import VegaLiteRender"
   ]
  },
  {
   "cell_type": "code",
   "execution_count": 2,
   "metadata": {},
   "outputs": [],
   "source": [
    "%load_ext autoreload\n",
    "%autoreload 2"
   ]
  },
  {
   "cell_type": "markdown",
   "metadata": {},
   "source": [
    "## Load pretrained word-embedding model"
   ]
  },
  {
   "cell_type": "code",
   "execution_count": 3,
   "metadata": {},
   "outputs": [],
   "source": [
    "word_embedding_model_path = 'utils/en-50d-200000words.vec'\n",
    "\n",
    "word_embedding_dict = {}\n",
    "with open(word_embedding_model_path) as file_in:\n",
    "    lines = []\n",
    "    for idx, line in enumerate(file_in):\n",
    "        if idx == 0: ## line 0 is invalid\n",
    "            continue \n",
    "        word, *features = line.split()\n",
    "        word_embedding_dict[word] = np.array(features)"
   ]
  },
  {
   "cell_type": "markdown",
   "metadata": {},
   "source": [
    "## Load trained single-chart assessment model and chart type prediction model"
   ]
  },
  {
   "cell_type": "code",
   "execution_count": null,
   "metadata": {},
   "outputs": [],
   "source": [
    "gpu = torch.device('cuda:0')\n",
    "\n",
    "column_score_model = ScoreNetLSTM(input_size=96, seq_length = 4, batch_size=2, pack = True).to(gpu)\n",
    "column_score_model.load_state_dict(torch.load('trainedModel/singleChartModel.pt', map_location=gpu))\n",
    "column_score_model.eval()\n",
    "\n",
    "chart_type_model = ChartTypeLSTM(input_size = 96, hidden_size = 400, seq_length = 4, num_class = 9, bidirectional = True).to(gpu)\n",
    "chart_type_model.load_state_dict(torch.load('trainedModel/chartType.pt', map_location=gpu))\n",
    "chart_type_model.eval()"
   ]
  },
  {
   "cell_type": "markdown",
   "metadata": {},
   "source": [
    "## Data loader and pre-processing"
   ]
  },
  {
   "cell_type": "code",
   "execution_count": null,
   "metadata": {},
   "outputs": [],
   "source": [
    "df = pd.read_csv('csv/penguins.csv')\n",
    "chartRecommender = ChartRecommender(df, \n",
    "                                    word_embedding_dict, column_score_model, chart_type_model)"
   ]
  },
  {
   "cell_type": "code",
   "execution_count": null,
   "metadata": {},
   "outputs": [],
   "source": [
    "## the dataset\n",
    "chartRecommender.df.head()"
   ]
  },
  {
   "cell_type": "code",
   "execution_count": null,
   "metadata": {},
   "outputs": [],
   "source": [
    "## the fields/columns of the dataset\n",
    "chartRecommender.fields"
   ]
  },
  {
   "cell_type": "code",
   "execution_count": null,
   "metadata": {},
   "outputs": [],
   "source": [
    "## computed features for each field/column (that are fed into the DL models)\n",
    "print(type(chartRecommender.feature_dict))\n",
    "\n",
    "## the features of the first field/column\n",
    "print(chartRecommender.feature_dict.keys())\n",
    "\n",
    "## the size of feature\n",
    "print(np.array(chartRecommender.feature_dict[0]).shape)"
   ]
  },
  {
   "cell_type": "markdown",
   "metadata": {},
   "source": [
    "## Single chart recommender\n",
    "Return a DataFrame:\n",
    "- indices: the column indices encoded by this chart\n",
    "- column_selection_score: the predicted score for the column selection. Min-max normed.\n",
    "- chart type: the chart type ('area', 'bar', 'scatter', 'line', 'pie')\n",
    "- chart_type_prob: the likelihood that the selected columns are encoded by the chart type\n",
    "- final_score: the overall score which is column_selection_score * chart_type_prob"
   ]
  },
  {
   "cell_type": "code",
   "execution_count": null,
   "metadata": {},
   "outputs": [],
   "source": [
    "## rank the results by the final_score\n",
    "recommended_charts = pd.DataFrame.from_records(chartRecommender.charts).sort_values(by='final_score', ascending = False)\n",
    "recommended_charts.head(5)"
   ]
  },
  {
   "cell_type": "code",
   "execution_count": null,
   "metadata": {},
   "outputs": [],
   "source": [
    "## select the top chart and render it by VegaLiteRender \n",
    "recommend_chart = recommended_charts.iloc[0]\n",
    "vr = VegaLiteRender(chart_type = recommend_chart['chart_type'], columns = recommend_chart['fields'], data = chartRecommender.df.to_dict('records'))\n",
    "\n",
    "alt.Chart.from_dict(vr.vSpec)"
   ]
  },
  {
   "cell_type": "markdown",
   "metadata": {},
   "source": [
    "## MV Recommender\n",
    "Return a MV.\n",
    "- a MV is describled as a list of charts (corresponding to each record in the above charts_df)\n",
    "- current_mv: optional. \n",
    "- max_charts: number of charts in the returned MV"
   ]
  },
  {
   "cell_type": "code",
   "execution_count": null,
   "metadata": {},
   "outputs": [],
   "source": [
    "## load model\n",
    "mv_model = ScoreNetLSTM(input_size=9, seq_length = 12).to(gpu)\n",
    "mv_model.load_state_dict(torch.load('trainedModel/mvModel.pt', map_location=gpu))\n",
    "mv_model.eval()"
   ]
  },
  {
   "cell_type": "code",
   "execution_count": null,
   "metadata": {},
   "outputs": [],
   "source": [
    "chartRecommender = ChartRecommender(df, \n",
    "                                    word_embedding_dict, column_score_model, chart_type_model)"
   ]
  },
  {
   "cell_type": "code",
   "execution_count": null,
   "metadata": {},
   "outputs": [],
   "source": [
    "## Recommending an MV conditioned on current_mv\n",
    "current_mv = [{'indices': (1,), 'chart_type': 'pie'}]\n",
    "chartRecommender.recommend_mv(mv_model, current_mv = current_mv, max_charts = len(current_mv) + 1)"
   ]
  },
  {
   "cell_type": "code",
   "execution_count": null,
   "metadata": {},
   "outputs": [],
   "source": [
    "len(chartRecommender.charts)"
   ]
  },
  {
   "cell_type": "code",
   "execution_count": null,
   "metadata": {},
   "outputs": [],
   "source": [
    "## Recommending an MV without conditions\n",
    "chartRecommender.recommend_mv(mv_model, current_mv = [], max_charts = 4)"
   ]
  },
  {
   "cell_type": "code",
   "execution_count": null,
   "metadata": {},
   "outputs": [],
   "source": []
  },
  {
   "cell_type": "code",
   "execution_count": null,
   "metadata": {},
   "outputs": [],
   "source": []
  },
  {
   "cell_type": "code",
   "execution_count": null,
   "metadata": {},
   "outputs": [],
   "source": []
  }
 ],
 "metadata": {
  "kernelspec": {
   "display_name": "Python 3",
   "language": "python",
   "name": "python3"
  },
  "language_info": {
   "codemirror_mode": {
    "name": "ipython",
    "version": 3
   },
   "file_extension": ".py",
   "mimetype": "text/x-python",
   "name": "python",
   "nbconvert_exporter": "python",
   "pygments_lexer": "ipython3",
   "version": "3.6.9"
  }
 },
 "nbformat": 4,
 "nbformat_minor": 5
}
