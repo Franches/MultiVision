{
 "cells": [
  {
   "cell_type": "markdown",
   "metadata": {},
   "source": [
    "# Chart Recommender\n",
    "This file provides an example of running the chart recommender, including the single chart recommender and the multiple-charts recommender.     \n",
    "The input is a data table in Pandas.DataFrame.  \n",
    "\n",
    "### Single-Chart Recommender\n",
    "The output is the recommended charts, described by the column selection and chart type.     \n",
    "\n",
    "### MV Recommender\n",
    "The output is the recommended MVs, described as a list of charts.\n",
    "\n",
    "Notes of limitations:\n",
    "- A chart can encode a max number of 4 data columns.\n",
    "- A MV can have a max number of 12 charts.\n",
    "- The predicted chart type is limited to ('area', 'bar', 'scatter', 'line', 'pie')"
   ]
  },
  {
   "cell_type": "code",
   "execution_count": 1,
   "metadata": {},
   "outputs": [],
   "source": [
    "import pandas as pd\n",
    "import json\n",
    "import numpy as np\n",
    "import itertools\n",
    "import sys\n",
    "import re\n",
    "import altair as alt\n",
    "\n",
    "import torch\n",
    "from torch.nn.utils.rnn import pack_padded_sequence, pad_packed_sequence\n",
    "from torch.autograd import Variable\n",
    "import torch.nn.functional as nnf\n",
    "\n",
    "from model.encodingModel import ChartTypeNN, ChartTypeLSTM, ScoreNetLSTM\n",
    "# from utils.helper import softmax, get_data_feature_by_column, get_embed_feature_by_column, get_all_charts_scores, charts_to_features\n",
    "from utils.ChartRecommender import ChartRecommender\n",
    "from utils.VegaLiteRender import VegaLiteRender"
   ]
  },
  {
   "cell_type": "code",
   "execution_count": 2,
   "metadata": {},
   "outputs": [],
   "source": [
    "%load_ext autoreload\n",
    "%autoreload 2"
   ]
  },
  {
   "cell_type": "markdown",
   "metadata": {},
   "source": [
    "## Load pretrained word-embedding model"
   ]
  },
  {
   "cell_type": "code",
   "execution_count": 3,
   "metadata": {},
   "outputs": [],
   "source": [
    "word_embedding_model_path = 'utils/en-50d-200000words.vec'\n",
    "\n",
    "word_embedding_dict = {}\n",
    "with open(word_embedding_model_path) as file_in:\n",
    "    lines = []\n",
    "    for idx, line in enumerate(file_in):\n",
    "        if idx == 0: ## line 0 is invalid\n",
    "            continue \n",
    "        word, *features = line.split()\n",
    "        word_embedding_dict[word] = np.array(features)"
   ]
  },
  {
   "cell_type": "markdown",
   "metadata": {},
   "source": [
    "## Load trained single-chart assessment model and chart type prediction model"
   ]
  },
  {
   "cell_type": "code",
   "execution_count": 4,
   "metadata": {},
   "outputs": [
    {
     "data": {
      "text/plain": [
       "ChartTypeLSTM(\n",
       "  (lstm): LSTM(96, 400, batch_first=True, bidirectional=True)\n",
       "  (dense): Sequential(\n",
       "    (linear0): Linear(in_features=3200, out_features=2000, bias=True)\n",
       "    (rulu0): LeakyReLU(negative_slope=0.01)\n",
       "    (dropout0): Dropout(p=0.4, inplace=False)\n",
       "    (linear1): Linear(in_features=2000, out_features=1600, bias=True)\n",
       "    (rulu1): LeakyReLU(negative_slope=0.01)\n",
       "    (dropout1): Dropout(p=0.4, inplace=False)\n",
       "    (linear2): Linear(in_features=1600, out_features=1200, bias=True)\n",
       "    (rulu2): LeakyReLU(negative_slope=0.01)\n",
       "    (dropout2): Dropout(p=0.4, inplace=False)\n",
       "    (linear4): Linear(in_features=1200, out_features=9, bias=True)\n",
       "    (output): ReLU()\n",
       "  )\n",
       ")"
      ]
     },
     "execution_count": 4,
     "metadata": {},
     "output_type": "execute_result"
    }
   ],
   "source": [
    "gpu = torch.device('cuda:0')\n",
    "\n",
    "column_score_model = ScoreNetLSTM(input_size=96, seq_length = 4, batch_size=2, pack = True).to(gpu)\n",
    "column_score_model.load_state_dict(torch.load('trainedModel/singleChartModel.pt', map_location=gpu))\n",
    "column_score_model.eval()\n",
    "\n",
    "chart_type_model = ChartTypeLSTM(input_size = 96, hidden_size = 400, seq_length = 4, num_class = 9, bidirectional = True).to(gpu)\n",
    "chart_type_model.load_state_dict(torch.load('trainedModel/chartType.pt', map_location=gpu))\n",
    "chart_type_model.eval()"
   ]
  },
  {
   "cell_type": "markdown",
   "metadata": {},
   "source": [
    "## Data loader and pre-processing"
   ]
  },
  {
   "cell_type": "code",
   "execution_count": 5,
   "metadata": {},
   "outputs": [],
   "source": [
    "df = pd.read_csv('csv/penguins.csv')\n",
    "chartRecommender = ChartRecommender(df, \n",
    "                                    word_embedding_dict, column_score_model, chart_type_model)"
   ]
  },
  {
   "cell_type": "code",
   "execution_count": 6,
   "metadata": {},
   "outputs": [
    {
     "data": {
      "text/html": [
       "<div>\n",
       "<style scoped>\n",
       "    .dataframe tbody tr th:only-of-type {\n",
       "        vertical-align: middle;\n",
       "    }\n",
       "\n",
       "    .dataframe tbody tr th {\n",
       "        vertical-align: top;\n",
       "    }\n",
       "\n",
       "    .dataframe thead th {\n",
       "        text-align: right;\n",
       "    }\n",
       "</style>\n",
       "<table border=\"1\" class=\"dataframe\">\n",
       "  <thead>\n",
       "    <tr style=\"text-align: right;\">\n",
       "      <th></th>\n",
       "      <th>Species</th>\n",
       "      <th>Island</th>\n",
       "      <th>Beak Length (mm)</th>\n",
       "      <th>Beak Depth (mm)</th>\n",
       "      <th>Flipper Length (mm)</th>\n",
       "      <th>Body Mass (g)</th>\n",
       "      <th>Sex</th>\n",
       "    </tr>\n",
       "  </thead>\n",
       "  <tbody>\n",
       "    <tr>\n",
       "      <th>0</th>\n",
       "      <td>Adelie</td>\n",
       "      <td>Torgersen</td>\n",
       "      <td>39.1</td>\n",
       "      <td>18.7</td>\n",
       "      <td>181.0</td>\n",
       "      <td>3750.0</td>\n",
       "      <td>MALE</td>\n",
       "    </tr>\n",
       "    <tr>\n",
       "      <th>1</th>\n",
       "      <td>Adelie</td>\n",
       "      <td>Torgersen</td>\n",
       "      <td>39.5</td>\n",
       "      <td>17.4</td>\n",
       "      <td>186.0</td>\n",
       "      <td>3800.0</td>\n",
       "      <td>FEMALE</td>\n",
       "    </tr>\n",
       "    <tr>\n",
       "      <th>2</th>\n",
       "      <td>Adelie</td>\n",
       "      <td>Torgersen</td>\n",
       "      <td>40.3</td>\n",
       "      <td>18.0</td>\n",
       "      <td>195.0</td>\n",
       "      <td>3250.0</td>\n",
       "      <td>FEMALE</td>\n",
       "    </tr>\n",
       "    <tr>\n",
       "      <th>3</th>\n",
       "      <td>Adelie</td>\n",
       "      <td>Torgersen</td>\n",
       "      <td>NaN</td>\n",
       "      <td>NaN</td>\n",
       "      <td>NaN</td>\n",
       "      <td>NaN</td>\n",
       "      <td>NaN</td>\n",
       "    </tr>\n",
       "    <tr>\n",
       "      <th>4</th>\n",
       "      <td>Adelie</td>\n",
       "      <td>Torgersen</td>\n",
       "      <td>36.7</td>\n",
       "      <td>19.3</td>\n",
       "      <td>193.0</td>\n",
       "      <td>3450.0</td>\n",
       "      <td>FEMALE</td>\n",
       "    </tr>\n",
       "  </tbody>\n",
       "</table>\n",
       "</div>"
      ],
      "text/plain": [
       "  Species     Island  Beak Length (mm)  Beak Depth (mm)  Flipper Length (mm)  \\\n",
       "0  Adelie  Torgersen              39.1             18.7                181.0   \n",
       "1  Adelie  Torgersen              39.5             17.4                186.0   \n",
       "2  Adelie  Torgersen              40.3             18.0                195.0   \n",
       "3  Adelie  Torgersen               NaN              NaN                  NaN   \n",
       "4  Adelie  Torgersen              36.7             19.3                193.0   \n",
       "\n",
       "   Body Mass (g)     Sex  \n",
       "0         3750.0    MALE  \n",
       "1         3800.0  FEMALE  \n",
       "2         3250.0  FEMALE  \n",
       "3            NaN     NaN  \n",
       "4         3450.0  FEMALE  "
      ]
     },
     "execution_count": 6,
     "metadata": {},
     "output_type": "execute_result"
    }
   ],
   "source": [
    "## the dataset\n",
    "chartRecommender.df.head()"
   ]
  },
  {
   "cell_type": "code",
   "execution_count": 7,
   "metadata": {},
   "outputs": [
    {
     "data": {
      "text/plain": [
       "{0: {'name': 'Species', 'index': 0, 'type': 'nominal'},\n",
       " 1: {'name': 'Island', 'index': 1, 'type': 'nominal'},\n",
       " 2: {'name': 'Beak Length (mm)', 'index': 2, 'type': 'quantitative'},\n",
       " 3: {'name': 'Beak Depth (mm)', 'index': 3, 'type': 'quantitative'},\n",
       " 4: {'name': 'Flipper Length (mm)', 'index': 4, 'type': 'quantitative'},\n",
       " 5: {'name': 'Body Mass (g)', 'index': 5, 'type': 'quantitative'},\n",
       " 6: {'name': 'Sex', 'index': 6, 'type': 'nominal'}}"
      ]
     },
     "execution_count": 7,
     "metadata": {},
     "output_type": "execute_result"
    }
   ],
   "source": [
    "## the fields/columns of the dataset\n",
    "chartRecommender.fields"
   ]
  },
  {
   "cell_type": "code",
   "execution_count": 8,
   "metadata": {},
   "outputs": [
    {
     "name": "stdout",
     "output_type": "stream",
     "text": [
      "<class 'dict'>\n",
      "dict_keys([0, 1, 2, 3, 4, 5, 6])\n",
      "(96,)\n"
     ]
    }
   ],
   "source": [
    "## computed features for each field/column (that are fed into the DL models)\n",
    "print(type(chartRecommender.feature_dict))\n",
    "\n",
    "## the features of the first field/column\n",
    "print(chartRecommender.feature_dict.keys())\n",
    "\n",
    "## the size of feature\n",
    "print(np.array(chartRecommender.feature_dict[0]).shape)"
   ]
  },
  {
   "cell_type": "markdown",
   "metadata": {},
   "source": [
    "## Single chart recommender\n",
    "Return a DataFrame:\n",
    "- indices: the column indices encoded by this chart\n",
    "- column_selection_score: the predicted score for the column selection. Min-max normed.\n",
    "- chart type: the chart type ('area', 'bar', 'scatter', 'line', 'pie')\n",
    "- chart_type_prob: the likelihood that the selected columns are encoded by the chart type\n",
    "- final_score: the overall score which is column_selection_score * chart_type_prob"
   ]
  },
  {
   "cell_type": "code",
   "execution_count": 9,
   "metadata": {},
   "outputs": [
    {
     "data": {
      "text/html": [
       "<div>\n",
       "<style scoped>\n",
       "    .dataframe tbody tr th:only-of-type {\n",
       "        vertical-align: middle;\n",
       "    }\n",
       "\n",
       "    .dataframe tbody tr th {\n",
       "        vertical-align: top;\n",
       "    }\n",
       "\n",
       "    .dataframe thead th {\n",
       "        text-align: right;\n",
       "    }\n",
       "</style>\n",
       "<table border=\"1\" class=\"dataframe\">\n",
       "  <thead>\n",
       "    <tr style=\"text-align: right;\">\n",
       "      <th></th>\n",
       "      <th>chart_type</th>\n",
       "      <th>chart_type_prob</th>\n",
       "      <th>column_selection_score</th>\n",
       "      <th>fields</th>\n",
       "      <th>final_score</th>\n",
       "      <th>indices</th>\n",
       "      <th>n_column</th>\n",
       "    </tr>\n",
       "  </thead>\n",
       "  <tbody>\n",
       "    <tr>\n",
       "      <th>104</th>\n",
       "      <td>bar</td>\n",
       "      <td>0.974798</td>\n",
       "      <td>0.953993</td>\n",
       "      <td>[{'name': 'Species', 'index': 0, 'type': 'nomi...</td>\n",
       "      <td>0.929951</td>\n",
       "      <td>(0, 1, 6)</td>\n",
       "      <td>3</td>\n",
       "    </tr>\n",
       "    <tr>\n",
       "      <th>80</th>\n",
       "      <td>bar</td>\n",
       "      <td>0.767910</td>\n",
       "      <td>0.119861</td>\n",
       "      <td>[{'name': 'Beak Depth (mm)', 'index': 3, 'type...</td>\n",
       "      <td>0.092042</td>\n",
       "      <td>(3, 6)</td>\n",
       "      <td>2</td>\n",
       "    </tr>\n",
       "    <tr>\n",
       "      <th>71</th>\n",
       "      <td>bar</td>\n",
       "      <td>0.326807</td>\n",
       "      <td>0.110141</td>\n",
       "      <td>[{'name': 'Beak Length (mm)', 'index': 2, 'typ...</td>\n",
       "      <td>0.035995</td>\n",
       "      <td>(2, 6)</td>\n",
       "      <td>2</td>\n",
       "    </tr>\n",
       "    <tr>\n",
       "      <th>86</th>\n",
       "      <td>bar</td>\n",
       "      <td>0.082556</td>\n",
       "      <td>0.132629</td>\n",
       "      <td>[{'name': 'Flipper Length (mm)', 'index': 4, '...</td>\n",
       "      <td>0.010949</td>\n",
       "      <td>(4, 6)</td>\n",
       "      <td>2</td>\n",
       "    </tr>\n",
       "    <tr>\n",
       "      <th>89</th>\n",
       "      <td>bar</td>\n",
       "      <td>0.019680</td>\n",
       "      <td>0.132948</td>\n",
       "      <td>[{'name': 'Body Mass (g)', 'index': 5, 'type':...</td>\n",
       "      <td>0.002616</td>\n",
       "      <td>(5, 6)</td>\n",
       "      <td>2</td>\n",
       "    </tr>\n",
       "  </tbody>\n",
       "</table>\n",
       "</div>"
      ],
      "text/plain": [
       "    chart_type  chart_type_prob  column_selection_score  \\\n",
       "104        bar         0.974798                0.953993   \n",
       "80         bar         0.767910                0.119861   \n",
       "71         bar         0.326807                0.110141   \n",
       "86         bar         0.082556                0.132629   \n",
       "89         bar         0.019680                0.132948   \n",
       "\n",
       "                                                fields  final_score  \\\n",
       "104  [{'name': 'Species', 'index': 0, 'type': 'nomi...     0.929951   \n",
       "80   [{'name': 'Beak Depth (mm)', 'index': 3, 'type...     0.092042   \n",
       "71   [{'name': 'Beak Length (mm)', 'index': 2, 'typ...     0.035995   \n",
       "86   [{'name': 'Flipper Length (mm)', 'index': 4, '...     0.010949   \n",
       "89   [{'name': 'Body Mass (g)', 'index': 5, 'type':...     0.002616   \n",
       "\n",
       "       indices  n_column  \n",
       "104  (0, 1, 6)         3  \n",
       "80      (3, 6)         2  \n",
       "71      (2, 6)         2  \n",
       "86      (4, 6)         2  \n",
       "89      (5, 6)         2  "
      ]
     },
     "execution_count": 9,
     "metadata": {},
     "output_type": "execute_result"
    }
   ],
   "source": [
    "## rank the results by the final_score\n",
    "recommended_charts = pd.DataFrame.from_records(chartRecommender.charts).sort_values(by='final_score', ascending = False)\n",
    "recommended_charts.head(5)"
   ]
  },
  {
   "cell_type": "code",
   "execution_count": 10,
   "metadata": {},
   "outputs": [
    {
     "name": "stdout",
     "output_type": "stream",
     "text": [
      "[{'name': 'Species', 'index': 0, 'type': 'nominal'}, {'name': 'Island', 'index': 1, 'type': 'nominal'}, {'name': 'Sex', 'index': 6, 'type': 'nominal'}]\n"
     ]
    },
    {
     "data": {
      "text/html": [
       "\n",
       "<div id=\"altair-viz-436e38e79da2486c974fd1a0d0419a3d\"></div>\n",
       "<script type=\"text/javascript\">\n",
       "  (function(spec, embedOpt){\n",
       "    let outputDiv = document.currentScript.previousElementSibling;\n",
       "    if (outputDiv.id !== \"altair-viz-436e38e79da2486c974fd1a0d0419a3d\") {\n",
       "      outputDiv = document.getElementById(\"altair-viz-436e38e79da2486c974fd1a0d0419a3d\");\n",
       "    }\n",
       "    const paths = {\n",
       "      \"vega\": \"https://cdn.jsdelivr.net/npm//vega@5?noext\",\n",
       "      \"vega-lib\": \"https://cdn.jsdelivr.net/npm//vega-lib?noext\",\n",
       "      \"vega-lite\": \"https://cdn.jsdelivr.net/npm//vega-lite@4.8.1?noext\",\n",
       "      \"vega-embed\": \"https://cdn.jsdelivr.net/npm//vega-embed@6?noext\",\n",
       "    };\n",
       "\n",
       "    function loadScript(lib) {\n",
       "      return new Promise(function(resolve, reject) {\n",
       "        var s = document.createElement('script');\n",
       "        s.src = paths[lib];\n",
       "        s.async = true;\n",
       "        s.onload = () => resolve(paths[lib]);\n",
       "        s.onerror = () => reject(`Error loading script: ${paths[lib]}`);\n",
       "        document.getElementsByTagName(\"head\")[0].appendChild(s);\n",
       "      });\n",
       "    }\n",
       "\n",
       "    function showError(err) {\n",
       "      outputDiv.innerHTML = `<div class=\"error\" style=\"color:red;\">${err}</div>`;\n",
       "      throw err;\n",
       "    }\n",
       "\n",
       "    function displayChart(vegaEmbed) {\n",
       "      vegaEmbed(outputDiv, spec, embedOpt)\n",
       "        .catch(err => showError(`Javascript Error: ${err.message}<br>This usually means there's a typo in your chart specification. See the javascript console for the full traceback.`));\n",
       "    }\n",
       "\n",
       "    if(typeof define === \"function\" && define.amd) {\n",
       "      requirejs.config({paths});\n",
       "      require([\"vega-embed\"], displayChart, err => showError(`Error loading script: ${err.message}`));\n",
       "    } else if (typeof vegaEmbed === \"function\") {\n",
       "      displayChart(vegaEmbed);\n",
       "    } else {\n",
       "      loadScript(\"vega\")\n",
       "        .then(() => loadScript(\"vega-lite\"))\n",
       "        .then(() => loadScript(\"vega-embed\"))\n",
       "        .catch(showError)\n",
       "        .then(() => displayChart(vegaEmbed));\n",
       "    }\n",
       "  })({\"config\": {\"view\": {\"continuousWidth\": 400, \"continuousHeight\": 300}}, \"data\": {\"name\": \"data-252157884ad7a28bc611d5d0682de314\"}, \"mark\": \"bar\", \"encoding\": {\"color\": {\"type\": \"nominal\", \"field\": \"Island\"}, \"column\": {\"type\": \"nominal\", \"field\": \"Sex\"}, \"x\": {\"type\": \"nominal\", \"field\": \"Species\"}, \"y\": {\"type\": \"quantitative\", \"aggregate\": \"count\"}}, \"$schema\": \"https://vega.github.io/schema/vega-lite/v4.8.1.json\", \"datasets\": {\"data-252157884ad7a28bc611d5d0682de314\": [{\"Species\": \"Adelie\", \"Island\": \"Torgersen\", \"Beak Length (mm)\": 39.1, \"Beak Depth (mm)\": 18.7, \"Flipper Length (mm)\": 181.0, \"Body Mass (g)\": 3750.0, \"Sex\": \"MALE\"}, {\"Species\": \"Adelie\", \"Island\": \"Torgersen\", \"Beak Length (mm)\": 39.5, \"Beak Depth (mm)\": 17.4, \"Flipper Length (mm)\": 186.0, \"Body Mass (g)\": 3800.0, \"Sex\": \"FEMALE\"}, {\"Species\": \"Adelie\", \"Island\": \"Torgersen\", \"Beak Length (mm)\": 40.3, \"Beak Depth (mm)\": 18.0, \"Flipper Length (mm)\": 195.0, \"Body Mass (g)\": 3250.0, \"Sex\": \"FEMALE\"}, {\"Species\": \"Adelie\", \"Island\": \"Torgersen\", \"Beak Length (mm)\": NaN, \"Beak Depth (mm)\": NaN, \"Flipper Length (mm)\": NaN, \"Body Mass (g)\": NaN, \"Sex\": NaN}, {\"Species\": \"Adelie\", \"Island\": \"Torgersen\", \"Beak Length (mm)\": 36.7, \"Beak Depth (mm)\": 19.3, \"Flipper Length (mm)\": 193.0, \"Body Mass (g)\": 3450.0, \"Sex\": \"FEMALE\"}, {\"Species\": \"Adelie\", \"Island\": \"Torgersen\", \"Beak Length (mm)\": 39.3, \"Beak Depth (mm)\": 20.6, \"Flipper Length (mm)\": 190.0, \"Body Mass (g)\": 3650.0, \"Sex\": \"MALE\"}, {\"Species\": \"Adelie\", \"Island\": \"Torgersen\", \"Beak Length (mm)\": 38.9, \"Beak Depth (mm)\": 17.8, \"Flipper Length (mm)\": 181.0, \"Body Mass (g)\": 3625.0, \"Sex\": \"FEMALE\"}, {\"Species\": \"Adelie\", \"Island\": \"Torgersen\", \"Beak Length (mm)\": 39.2, \"Beak Depth (mm)\": 19.6, \"Flipper Length (mm)\": 195.0, \"Body Mass (g)\": 4675.0, \"Sex\": \"MALE\"}, {\"Species\": \"Adelie\", \"Island\": \"Torgersen\", \"Beak Length (mm)\": 34.1, \"Beak Depth (mm)\": 18.1, \"Flipper Length (mm)\": 193.0, \"Body Mass (g)\": 3475.0, \"Sex\": NaN}, {\"Species\": \"Adelie\", \"Island\": \"Torgersen\", \"Beak Length (mm)\": 42.0, \"Beak Depth (mm)\": 20.2, \"Flipper Length (mm)\": 190.0, \"Body Mass (g)\": 4250.0, \"Sex\": NaN}, {\"Species\": \"Adelie\", \"Island\": \"Torgersen\", \"Beak Length (mm)\": 37.8, \"Beak Depth (mm)\": 17.1, \"Flipper Length (mm)\": 186.0, \"Body Mass (g)\": 3300.0, \"Sex\": NaN}, {\"Species\": \"Adelie\", \"Island\": \"Torgersen\", \"Beak Length (mm)\": 37.8, \"Beak Depth (mm)\": 17.3, \"Flipper Length (mm)\": 180.0, \"Body Mass (g)\": 3700.0, \"Sex\": NaN}, {\"Species\": \"Adelie\", \"Island\": \"Torgersen\", \"Beak Length (mm)\": 41.1, \"Beak Depth (mm)\": 17.6, \"Flipper Length (mm)\": 182.0, \"Body Mass (g)\": 3200.0, \"Sex\": \"FEMALE\"}, {\"Species\": \"Adelie\", \"Island\": \"Torgersen\", \"Beak Length (mm)\": 38.6, \"Beak Depth (mm)\": 21.2, \"Flipper Length (mm)\": 191.0, \"Body Mass (g)\": 3800.0, \"Sex\": \"MALE\"}, {\"Species\": \"Adelie\", \"Island\": \"Torgersen\", \"Beak Length (mm)\": 34.6, \"Beak Depth (mm)\": 21.1, \"Flipper Length (mm)\": 198.0, \"Body Mass (g)\": 4400.0, \"Sex\": \"MALE\"}, {\"Species\": \"Adelie\", \"Island\": \"Torgersen\", \"Beak Length (mm)\": 36.6, \"Beak Depth (mm)\": 17.8, \"Flipper Length (mm)\": 185.0, \"Body Mass (g)\": 3700.0, \"Sex\": \"FEMALE\"}, {\"Species\": \"Adelie\", \"Island\": \"Torgersen\", \"Beak Length (mm)\": 38.7, \"Beak Depth (mm)\": 19.0, \"Flipper Length (mm)\": 195.0, \"Body Mass (g)\": 3450.0, \"Sex\": \"FEMALE\"}, {\"Species\": \"Adelie\", \"Island\": \"Torgersen\", \"Beak Length (mm)\": 42.5, \"Beak Depth (mm)\": 20.7, \"Flipper Length (mm)\": 197.0, \"Body Mass (g)\": 4500.0, \"Sex\": \"MALE\"}, {\"Species\": \"Adelie\", \"Island\": \"Torgersen\", \"Beak Length (mm)\": 34.4, \"Beak Depth (mm)\": 18.4, \"Flipper Length (mm)\": 184.0, \"Body Mass (g)\": 3325.0, \"Sex\": \"FEMALE\"}, {\"Species\": \"Adelie\", \"Island\": \"Torgersen\", \"Beak Length (mm)\": 46.0, \"Beak Depth (mm)\": 21.5, \"Flipper Length (mm)\": 194.0, \"Body Mass (g)\": 4200.0, \"Sex\": \"MALE\"}, {\"Species\": \"Adelie\", \"Island\": \"Biscoe\", \"Beak Length (mm)\": 37.8, \"Beak Depth (mm)\": 18.3, \"Flipper Length (mm)\": 174.0, \"Body Mass (g)\": 3400.0, \"Sex\": \"FEMALE\"}, {\"Species\": \"Adelie\", \"Island\": \"Biscoe\", \"Beak Length (mm)\": 37.7, \"Beak Depth (mm)\": 18.7, \"Flipper Length (mm)\": 180.0, \"Body Mass (g)\": 3600.0, \"Sex\": \"MALE\"}, {\"Species\": \"Adelie\", \"Island\": \"Biscoe\", \"Beak Length (mm)\": 35.9, \"Beak Depth (mm)\": 19.2, \"Flipper Length (mm)\": 189.0, \"Body Mass (g)\": 3800.0, \"Sex\": \"FEMALE\"}, {\"Species\": \"Adelie\", \"Island\": \"Biscoe\", \"Beak Length (mm)\": 38.2, \"Beak Depth (mm)\": 18.1, \"Flipper Length (mm)\": 185.0, \"Body Mass (g)\": 3950.0, \"Sex\": \"MALE\"}, {\"Species\": \"Adelie\", \"Island\": \"Biscoe\", \"Beak Length (mm)\": 38.8, \"Beak Depth (mm)\": 17.2, \"Flipper Length (mm)\": 180.0, \"Body Mass (g)\": 3800.0, \"Sex\": \"MALE\"}, {\"Species\": \"Adelie\", \"Island\": \"Biscoe\", \"Beak Length (mm)\": 35.3, \"Beak Depth (mm)\": 18.9, \"Flipper Length (mm)\": 187.0, \"Body Mass (g)\": 3800.0, \"Sex\": \"FEMALE\"}, {\"Species\": \"Adelie\", \"Island\": \"Biscoe\", \"Beak Length (mm)\": 40.6, \"Beak Depth (mm)\": 18.6, \"Flipper Length (mm)\": 183.0, \"Body Mass (g)\": 3550.0, \"Sex\": \"MALE\"}, {\"Species\": \"Adelie\", \"Island\": \"Biscoe\", \"Beak Length (mm)\": 40.5, \"Beak Depth (mm)\": 17.9, \"Flipper Length (mm)\": 187.0, \"Body Mass (g)\": 3200.0, \"Sex\": \"FEMALE\"}, {\"Species\": \"Adelie\", \"Island\": \"Biscoe\", \"Beak Length (mm)\": 37.9, \"Beak Depth (mm)\": 18.6, \"Flipper Length (mm)\": 172.0, \"Body Mass (g)\": 3150.0, \"Sex\": \"FEMALE\"}, {\"Species\": \"Adelie\", \"Island\": \"Biscoe\", \"Beak Length (mm)\": 40.5, \"Beak Depth (mm)\": 18.9, \"Flipper Length (mm)\": 180.0, \"Body Mass (g)\": 3950.0, \"Sex\": \"MALE\"}, {\"Species\": \"Adelie\", \"Island\": \"Dream\", \"Beak Length (mm)\": 39.5, \"Beak Depth (mm)\": 16.7, \"Flipper Length (mm)\": 178.0, \"Body Mass (g)\": 3250.0, \"Sex\": \"FEMALE\"}, {\"Species\": \"Adelie\", \"Island\": \"Dream\", \"Beak Length (mm)\": 37.2, \"Beak Depth (mm)\": 18.1, \"Flipper Length (mm)\": 178.0, \"Body Mass (g)\": 3900.0, \"Sex\": \"MALE\"}, {\"Species\": \"Adelie\", \"Island\": \"Dream\", \"Beak Length (mm)\": 39.5, \"Beak Depth (mm)\": 17.8, \"Flipper Length (mm)\": 188.0, \"Body Mass (g)\": 3300.0, \"Sex\": \"FEMALE\"}, {\"Species\": \"Adelie\", \"Island\": \"Dream\", \"Beak Length (mm)\": 40.9, \"Beak Depth (mm)\": 18.9, \"Flipper Length (mm)\": 184.0, \"Body Mass (g)\": 3900.0, \"Sex\": \"MALE\"}, {\"Species\": \"Adelie\", \"Island\": \"Dream\", \"Beak Length (mm)\": 36.4, \"Beak Depth (mm)\": 17.0, \"Flipper Length (mm)\": 195.0, \"Body Mass (g)\": 3325.0, \"Sex\": \"FEMALE\"}, {\"Species\": \"Adelie\", \"Island\": \"Dream\", \"Beak Length (mm)\": 39.2, \"Beak Depth (mm)\": 21.1, \"Flipper Length (mm)\": 196.0, \"Body Mass (g)\": 4150.0, \"Sex\": \"MALE\"}, {\"Species\": \"Adelie\", \"Island\": \"Dream\", \"Beak Length (mm)\": 38.8, \"Beak Depth (mm)\": 20.0, \"Flipper Length (mm)\": 190.0, \"Body Mass (g)\": 3950.0, \"Sex\": \"MALE\"}, {\"Species\": \"Adelie\", \"Island\": \"Dream\", \"Beak Length (mm)\": 42.2, \"Beak Depth (mm)\": 18.5, \"Flipper Length (mm)\": 180.0, \"Body Mass (g)\": 3550.0, \"Sex\": \"FEMALE\"}, {\"Species\": \"Adelie\", \"Island\": \"Dream\", \"Beak Length (mm)\": 37.6, \"Beak Depth (mm)\": 19.3, \"Flipper Length (mm)\": 181.0, \"Body Mass (g)\": 3300.0, \"Sex\": \"FEMALE\"}, {\"Species\": \"Adelie\", \"Island\": \"Dream\", \"Beak Length (mm)\": 39.8, \"Beak Depth (mm)\": 19.1, \"Flipper Length (mm)\": 184.0, \"Body Mass (g)\": 4650.0, \"Sex\": \"MALE\"}, {\"Species\": \"Adelie\", \"Island\": \"Dream\", \"Beak Length (mm)\": 36.5, \"Beak Depth (mm)\": 18.0, \"Flipper Length (mm)\": 182.0, \"Body Mass (g)\": 3150.0, \"Sex\": \"FEMALE\"}, {\"Species\": \"Adelie\", \"Island\": \"Dream\", \"Beak Length (mm)\": 40.8, \"Beak Depth (mm)\": 18.4, \"Flipper Length (mm)\": 195.0, \"Body Mass (g)\": 3900.0, \"Sex\": \"MALE\"}, {\"Species\": \"Adelie\", \"Island\": \"Dream\", \"Beak Length (mm)\": 36.0, \"Beak Depth (mm)\": 18.5, \"Flipper Length (mm)\": 186.0, \"Body Mass (g)\": 3100.0, \"Sex\": \"FEMALE\"}, {\"Species\": \"Adelie\", \"Island\": \"Dream\", \"Beak Length (mm)\": 44.1, \"Beak Depth (mm)\": 19.7, \"Flipper Length (mm)\": 196.0, \"Body Mass (g)\": 4400.0, \"Sex\": \"MALE\"}, {\"Species\": \"Adelie\", \"Island\": \"Dream\", \"Beak Length (mm)\": 37.0, \"Beak Depth (mm)\": 16.9, \"Flipper Length (mm)\": 185.0, \"Body Mass (g)\": 3000.0, \"Sex\": \"FEMALE\"}, {\"Species\": \"Adelie\", \"Island\": \"Dream\", \"Beak Length (mm)\": 39.6, \"Beak Depth (mm)\": 18.8, \"Flipper Length (mm)\": 190.0, \"Body Mass (g)\": 4600.0, \"Sex\": \"MALE\"}, {\"Species\": \"Adelie\", \"Island\": \"Dream\", \"Beak Length (mm)\": 41.1, \"Beak Depth (mm)\": 19.0, \"Flipper Length (mm)\": 182.0, \"Body Mass (g)\": 3425.0, \"Sex\": \"MALE\"}, {\"Species\": \"Adelie\", \"Island\": \"Dream\", \"Beak Length (mm)\": 37.5, \"Beak Depth (mm)\": 18.9, \"Flipper Length (mm)\": 179.0, \"Body Mass (g)\": 2975.0, \"Sex\": NaN}, {\"Species\": \"Adelie\", \"Island\": \"Dream\", \"Beak Length (mm)\": 36.0, \"Beak Depth (mm)\": 17.9, \"Flipper Length (mm)\": 190.0, \"Body Mass (g)\": 3450.0, \"Sex\": \"FEMALE\"}, {\"Species\": \"Adelie\", \"Island\": \"Dream\", \"Beak Length (mm)\": 42.3, \"Beak Depth (mm)\": 21.2, \"Flipper Length (mm)\": 191.0, \"Body Mass (g)\": 4150.0, \"Sex\": \"MALE\"}, {\"Species\": \"Adelie\", \"Island\": \"Biscoe\", \"Beak Length (mm)\": 39.6, \"Beak Depth (mm)\": 17.7, \"Flipper Length (mm)\": 186.0, \"Body Mass (g)\": 3500.0, \"Sex\": \"FEMALE\"}, {\"Species\": \"Adelie\", \"Island\": \"Biscoe\", \"Beak Length (mm)\": 40.1, \"Beak Depth (mm)\": 18.9, \"Flipper Length (mm)\": 188.0, \"Body Mass (g)\": 4300.0, \"Sex\": \"MALE\"}, {\"Species\": \"Adelie\", \"Island\": \"Biscoe\", \"Beak Length (mm)\": 35.0, \"Beak Depth (mm)\": 17.9, \"Flipper Length (mm)\": 190.0, \"Body Mass (g)\": 3450.0, \"Sex\": \"FEMALE\"}, {\"Species\": \"Adelie\", \"Island\": \"Biscoe\", \"Beak Length (mm)\": 42.0, \"Beak Depth (mm)\": 19.5, \"Flipper Length (mm)\": 200.0, \"Body Mass (g)\": 4050.0, \"Sex\": \"MALE\"}, {\"Species\": \"Adelie\", \"Island\": \"Biscoe\", \"Beak Length (mm)\": 34.5, \"Beak Depth (mm)\": 18.1, \"Flipper Length (mm)\": 187.0, \"Body Mass (g)\": 2900.0, \"Sex\": \"FEMALE\"}, {\"Species\": \"Adelie\", \"Island\": \"Biscoe\", \"Beak Length (mm)\": 41.4, \"Beak Depth (mm)\": 18.6, \"Flipper Length (mm)\": 191.0, \"Body Mass (g)\": 3700.0, \"Sex\": \"MALE\"}, {\"Species\": \"Adelie\", \"Island\": \"Biscoe\", \"Beak Length (mm)\": 39.0, \"Beak Depth (mm)\": 17.5, \"Flipper Length (mm)\": 186.0, \"Body Mass (g)\": 3550.0, \"Sex\": \"FEMALE\"}, {\"Species\": \"Adelie\", \"Island\": \"Biscoe\", \"Beak Length (mm)\": 40.6, \"Beak Depth (mm)\": 18.8, \"Flipper Length (mm)\": 193.0, \"Body Mass (g)\": 3800.0, \"Sex\": \"MALE\"}, {\"Species\": \"Adelie\", \"Island\": \"Biscoe\", \"Beak Length (mm)\": 36.5, \"Beak Depth (mm)\": 16.6, \"Flipper Length (mm)\": 181.0, \"Body Mass (g)\": 2850.0, \"Sex\": \"FEMALE\"}, {\"Species\": \"Adelie\", \"Island\": \"Biscoe\", \"Beak Length (mm)\": 37.6, \"Beak Depth (mm)\": 19.1, \"Flipper Length (mm)\": 194.0, \"Body Mass (g)\": 3750.0, \"Sex\": \"MALE\"}, {\"Species\": \"Adelie\", \"Island\": \"Biscoe\", \"Beak Length (mm)\": 35.7, \"Beak Depth (mm)\": 16.9, \"Flipper Length (mm)\": 185.0, \"Body Mass (g)\": 3150.0, \"Sex\": \"FEMALE\"}, {\"Species\": \"Adelie\", \"Island\": \"Biscoe\", \"Beak Length (mm)\": 41.3, \"Beak Depth (mm)\": 21.1, \"Flipper Length (mm)\": 195.0, \"Body Mass (g)\": 4400.0, \"Sex\": \"MALE\"}, {\"Species\": \"Adelie\", \"Island\": \"Biscoe\", \"Beak Length (mm)\": 37.6, \"Beak Depth (mm)\": 17.0, \"Flipper Length (mm)\": 185.0, \"Body Mass (g)\": 3600.0, \"Sex\": \"FEMALE\"}, {\"Species\": \"Adelie\", \"Island\": \"Biscoe\", \"Beak Length (mm)\": 41.1, \"Beak Depth (mm)\": 18.2, \"Flipper Length (mm)\": 192.0, \"Body Mass (g)\": 4050.0, \"Sex\": \"MALE\"}, {\"Species\": \"Adelie\", \"Island\": \"Biscoe\", \"Beak Length (mm)\": 36.4, \"Beak Depth (mm)\": 17.1, \"Flipper Length (mm)\": 184.0, \"Body Mass (g)\": 2850.0, \"Sex\": \"FEMALE\"}, {\"Species\": \"Adelie\", \"Island\": \"Biscoe\", \"Beak Length (mm)\": 41.6, \"Beak Depth (mm)\": 18.0, \"Flipper Length (mm)\": 192.0, \"Body Mass (g)\": 3950.0, \"Sex\": \"MALE\"}, {\"Species\": \"Adelie\", \"Island\": \"Biscoe\", \"Beak Length (mm)\": 35.5, \"Beak Depth (mm)\": 16.2, \"Flipper Length (mm)\": 195.0, \"Body Mass (g)\": 3350.0, \"Sex\": \"FEMALE\"}, {\"Species\": \"Adelie\", \"Island\": \"Biscoe\", \"Beak Length (mm)\": 41.1, \"Beak Depth (mm)\": 19.1, \"Flipper Length (mm)\": 188.0, \"Body Mass (g)\": 4100.0, \"Sex\": \"MALE\"}, {\"Species\": \"Adelie\", \"Island\": \"Torgersen\", \"Beak Length (mm)\": 35.9, \"Beak Depth (mm)\": 16.6, \"Flipper Length (mm)\": 190.0, \"Body Mass (g)\": 3050.0, \"Sex\": \"FEMALE\"}, {\"Species\": \"Adelie\", \"Island\": \"Torgersen\", \"Beak Length (mm)\": 41.8, \"Beak Depth (mm)\": 19.4, \"Flipper Length (mm)\": 198.0, \"Body Mass (g)\": 4450.0, \"Sex\": \"MALE\"}, {\"Species\": \"Adelie\", \"Island\": \"Torgersen\", \"Beak Length (mm)\": 33.5, \"Beak Depth (mm)\": 19.0, \"Flipper Length (mm)\": 190.0, \"Body Mass (g)\": 3600.0, \"Sex\": \"FEMALE\"}, {\"Species\": \"Adelie\", \"Island\": \"Torgersen\", \"Beak Length (mm)\": 39.7, \"Beak Depth (mm)\": 18.4, \"Flipper Length (mm)\": 190.0, \"Body Mass (g)\": 3900.0, \"Sex\": \"MALE\"}, {\"Species\": \"Adelie\", \"Island\": \"Torgersen\", \"Beak Length (mm)\": 39.6, \"Beak Depth (mm)\": 17.2, \"Flipper Length (mm)\": 196.0, \"Body Mass (g)\": 3550.0, \"Sex\": \"FEMALE\"}, {\"Species\": \"Adelie\", \"Island\": \"Torgersen\", \"Beak Length (mm)\": 45.8, \"Beak Depth (mm)\": 18.9, \"Flipper Length (mm)\": 197.0, \"Body Mass (g)\": 4150.0, \"Sex\": \"MALE\"}, {\"Species\": \"Adelie\", \"Island\": \"Torgersen\", \"Beak Length (mm)\": 35.5, \"Beak Depth (mm)\": 17.5, \"Flipper Length (mm)\": 190.0, \"Body Mass (g)\": 3700.0, \"Sex\": \"FEMALE\"}, {\"Species\": \"Adelie\", \"Island\": \"Torgersen\", \"Beak Length (mm)\": 42.8, \"Beak Depth (mm)\": 18.5, \"Flipper Length (mm)\": 195.0, \"Body Mass (g)\": 4250.0, \"Sex\": \"MALE\"}, {\"Species\": \"Adelie\", \"Island\": \"Torgersen\", \"Beak Length (mm)\": 40.9, \"Beak Depth (mm)\": 16.8, \"Flipper Length (mm)\": 191.0, \"Body Mass (g)\": 3700.0, \"Sex\": \"FEMALE\"}, {\"Species\": \"Adelie\", \"Island\": \"Torgersen\", \"Beak Length (mm)\": 37.2, \"Beak Depth (mm)\": 19.4, \"Flipper Length (mm)\": 184.0, \"Body Mass (g)\": 3900.0, \"Sex\": \"MALE\"}, {\"Species\": \"Adelie\", \"Island\": \"Torgersen\", \"Beak Length (mm)\": 36.2, \"Beak Depth (mm)\": 16.1, \"Flipper Length (mm)\": 187.0, \"Body Mass (g)\": 3550.0, \"Sex\": \"FEMALE\"}, {\"Species\": \"Adelie\", \"Island\": \"Torgersen\", \"Beak Length (mm)\": 42.1, \"Beak Depth (mm)\": 19.1, \"Flipper Length (mm)\": 195.0, \"Body Mass (g)\": 4000.0, \"Sex\": \"MALE\"}, {\"Species\": \"Adelie\", \"Island\": \"Torgersen\", \"Beak Length (mm)\": 34.6, \"Beak Depth (mm)\": 17.2, \"Flipper Length (mm)\": 189.0, \"Body Mass (g)\": 3200.0, \"Sex\": \"FEMALE\"}, {\"Species\": \"Adelie\", \"Island\": \"Torgersen\", \"Beak Length (mm)\": 42.9, \"Beak Depth (mm)\": 17.6, \"Flipper Length (mm)\": 196.0, \"Body Mass (g)\": 4700.0, \"Sex\": \"MALE\"}, {\"Species\": \"Adelie\", \"Island\": \"Torgersen\", \"Beak Length (mm)\": 36.7, \"Beak Depth (mm)\": 18.8, \"Flipper Length (mm)\": 187.0, \"Body Mass (g)\": 3800.0, \"Sex\": \"FEMALE\"}, {\"Species\": \"Adelie\", \"Island\": \"Torgersen\", \"Beak Length (mm)\": 35.1, \"Beak Depth (mm)\": 19.4, \"Flipper Length (mm)\": 193.0, \"Body Mass (g)\": 4200.0, \"Sex\": \"MALE\"}, {\"Species\": \"Adelie\", \"Island\": \"Dream\", \"Beak Length (mm)\": 37.3, \"Beak Depth (mm)\": 17.8, \"Flipper Length (mm)\": 191.0, \"Body Mass (g)\": 3350.0, \"Sex\": \"FEMALE\"}, {\"Species\": \"Adelie\", \"Island\": \"Dream\", \"Beak Length (mm)\": 41.3, \"Beak Depth (mm)\": 20.3, \"Flipper Length (mm)\": 194.0, \"Body Mass (g)\": 3550.0, \"Sex\": \"MALE\"}, {\"Species\": \"Adelie\", \"Island\": \"Dream\", \"Beak Length (mm)\": 36.3, \"Beak Depth (mm)\": 19.5, \"Flipper Length (mm)\": 190.0, \"Body Mass (g)\": 3800.0, \"Sex\": \"MALE\"}, {\"Species\": \"Adelie\", \"Island\": \"Dream\", \"Beak Length (mm)\": 36.9, \"Beak Depth (mm)\": 18.6, \"Flipper Length (mm)\": 189.0, \"Body Mass (g)\": 3500.0, \"Sex\": \"FEMALE\"}, {\"Species\": \"Adelie\", \"Island\": \"Dream\", \"Beak Length (mm)\": 38.3, \"Beak Depth (mm)\": 19.2, \"Flipper Length (mm)\": 189.0, \"Body Mass (g)\": 3950.0, \"Sex\": \"MALE\"}, {\"Species\": \"Adelie\", \"Island\": \"Dream\", \"Beak Length (mm)\": 38.9, \"Beak Depth (mm)\": 18.8, \"Flipper Length (mm)\": 190.0, \"Body Mass (g)\": 3600.0, \"Sex\": \"FEMALE\"}, {\"Species\": \"Adelie\", \"Island\": \"Dream\", \"Beak Length (mm)\": 35.7, \"Beak Depth (mm)\": 18.0, \"Flipper Length (mm)\": 202.0, \"Body Mass (g)\": 3550.0, \"Sex\": \"FEMALE\"}, {\"Species\": \"Adelie\", \"Island\": \"Dream\", \"Beak Length (mm)\": 41.1, \"Beak Depth (mm)\": 18.1, \"Flipper Length (mm)\": 205.0, \"Body Mass (g)\": 4300.0, \"Sex\": \"MALE\"}, {\"Species\": \"Adelie\", \"Island\": \"Dream\", \"Beak Length (mm)\": 34.0, \"Beak Depth (mm)\": 17.1, \"Flipper Length (mm)\": 185.0, \"Body Mass (g)\": 3400.0, \"Sex\": \"FEMALE\"}, {\"Species\": \"Adelie\", \"Island\": \"Dream\", \"Beak Length (mm)\": 39.6, \"Beak Depth (mm)\": 18.1, \"Flipper Length (mm)\": 186.0, \"Body Mass (g)\": 4450.0, \"Sex\": \"MALE\"}, {\"Species\": \"Adelie\", \"Island\": \"Dream\", \"Beak Length (mm)\": 36.2, \"Beak Depth (mm)\": 17.3, \"Flipper Length (mm)\": 187.0, \"Body Mass (g)\": 3300.0, \"Sex\": \"FEMALE\"}, {\"Species\": \"Adelie\", \"Island\": \"Dream\", \"Beak Length (mm)\": 40.8, \"Beak Depth (mm)\": 18.9, \"Flipper Length (mm)\": 208.0, \"Body Mass (g)\": 4300.0, \"Sex\": \"MALE\"}, {\"Species\": \"Adelie\", \"Island\": \"Dream\", \"Beak Length (mm)\": 38.1, \"Beak Depth (mm)\": 18.6, \"Flipper Length (mm)\": 190.0, \"Body Mass (g)\": 3700.0, \"Sex\": \"FEMALE\"}, {\"Species\": \"Adelie\", \"Island\": \"Dream\", \"Beak Length (mm)\": 40.3, \"Beak Depth (mm)\": 18.5, \"Flipper Length (mm)\": 196.0, \"Body Mass (g)\": 4350.0, \"Sex\": \"MALE\"}, {\"Species\": \"Adelie\", \"Island\": \"Dream\", \"Beak Length (mm)\": 33.1, \"Beak Depth (mm)\": 16.1, \"Flipper Length (mm)\": 178.0, \"Body Mass (g)\": 2900.0, \"Sex\": \"FEMALE\"}, {\"Species\": \"Adelie\", \"Island\": \"Dream\", \"Beak Length (mm)\": 43.2, \"Beak Depth (mm)\": 18.5, \"Flipper Length (mm)\": 192.0, \"Body Mass (g)\": 4100.0, \"Sex\": \"MALE\"}, {\"Species\": \"Adelie\", \"Island\": \"Biscoe\", \"Beak Length (mm)\": 35.0, \"Beak Depth (mm)\": 17.9, \"Flipper Length (mm)\": 192.0, \"Body Mass (g)\": 3725.0, \"Sex\": \"FEMALE\"}, {\"Species\": \"Adelie\", \"Island\": \"Biscoe\", \"Beak Length (mm)\": 41.0, \"Beak Depth (mm)\": 20.0, \"Flipper Length (mm)\": 203.0, \"Body Mass (g)\": 4725.0, \"Sex\": \"MALE\"}, {\"Species\": \"Adelie\", \"Island\": \"Biscoe\", \"Beak Length (mm)\": 37.7, \"Beak Depth (mm)\": 16.0, \"Flipper Length (mm)\": 183.0, \"Body Mass (g)\": 3075.0, \"Sex\": \"FEMALE\"}, {\"Species\": \"Adelie\", \"Island\": \"Biscoe\", \"Beak Length (mm)\": 37.8, \"Beak Depth (mm)\": 20.0, \"Flipper Length (mm)\": 190.0, \"Body Mass (g)\": 4250.0, \"Sex\": \"MALE\"}, {\"Species\": \"Adelie\", \"Island\": \"Biscoe\", \"Beak Length (mm)\": 37.9, \"Beak Depth (mm)\": 18.6, \"Flipper Length (mm)\": 193.0, \"Body Mass (g)\": 2925.0, \"Sex\": \"FEMALE\"}, {\"Species\": \"Adelie\", \"Island\": \"Biscoe\", \"Beak Length (mm)\": 39.7, \"Beak Depth (mm)\": 18.9, \"Flipper Length (mm)\": 184.0, \"Body Mass (g)\": 3550.0, \"Sex\": \"MALE\"}, {\"Species\": \"Adelie\", \"Island\": \"Biscoe\", \"Beak Length (mm)\": 38.6, \"Beak Depth (mm)\": 17.2, \"Flipper Length (mm)\": 199.0, \"Body Mass (g)\": 3750.0, \"Sex\": \"FEMALE\"}, {\"Species\": \"Adelie\", \"Island\": \"Biscoe\", \"Beak Length (mm)\": 38.2, \"Beak Depth (mm)\": 20.0, \"Flipper Length (mm)\": 190.0, \"Body Mass (g)\": 3900.0, \"Sex\": \"MALE\"}, {\"Species\": \"Adelie\", \"Island\": \"Biscoe\", \"Beak Length (mm)\": 38.1, \"Beak Depth (mm)\": 17.0, \"Flipper Length (mm)\": 181.0, \"Body Mass (g)\": 3175.0, \"Sex\": \"FEMALE\"}, {\"Species\": \"Adelie\", \"Island\": \"Biscoe\", \"Beak Length (mm)\": 43.2, \"Beak Depth (mm)\": 19.0, \"Flipper Length (mm)\": 197.0, \"Body Mass (g)\": 4775.0, \"Sex\": \"MALE\"}, {\"Species\": \"Adelie\", \"Island\": \"Biscoe\", \"Beak Length (mm)\": 38.1, \"Beak Depth (mm)\": 16.5, \"Flipper Length (mm)\": 198.0, \"Body Mass (g)\": 3825.0, \"Sex\": \"FEMALE\"}, {\"Species\": \"Adelie\", \"Island\": \"Biscoe\", \"Beak Length (mm)\": 45.6, \"Beak Depth (mm)\": 20.3, \"Flipper Length (mm)\": 191.0, \"Body Mass (g)\": 4600.0, \"Sex\": \"MALE\"}, {\"Species\": \"Adelie\", \"Island\": \"Biscoe\", \"Beak Length (mm)\": 39.7, \"Beak Depth (mm)\": 17.7, \"Flipper Length (mm)\": 193.0, \"Body Mass (g)\": 3200.0, \"Sex\": \"FEMALE\"}, {\"Species\": \"Adelie\", \"Island\": \"Biscoe\", \"Beak Length (mm)\": 42.2, \"Beak Depth (mm)\": 19.5, \"Flipper Length (mm)\": 197.0, \"Body Mass (g)\": 4275.0, \"Sex\": \"MALE\"}, {\"Species\": \"Adelie\", \"Island\": \"Biscoe\", \"Beak Length (mm)\": 39.6, \"Beak Depth (mm)\": 20.7, \"Flipper Length (mm)\": 191.0, \"Body Mass (g)\": 3900.0, \"Sex\": \"FEMALE\"}, {\"Species\": \"Adelie\", \"Island\": \"Biscoe\", \"Beak Length (mm)\": 42.7, \"Beak Depth (mm)\": 18.3, \"Flipper Length (mm)\": 196.0, \"Body Mass (g)\": 4075.0, \"Sex\": \"MALE\"}, {\"Species\": \"Adelie\", \"Island\": \"Torgersen\", \"Beak Length (mm)\": 38.6, \"Beak Depth (mm)\": 17.0, \"Flipper Length (mm)\": 188.0, \"Body Mass (g)\": 2900.0, \"Sex\": \"FEMALE\"}, {\"Species\": \"Adelie\", \"Island\": \"Torgersen\", \"Beak Length (mm)\": 37.3, \"Beak Depth (mm)\": 20.5, \"Flipper Length (mm)\": 199.0, \"Body Mass (g)\": 3775.0, \"Sex\": \"MALE\"}, {\"Species\": \"Adelie\", \"Island\": \"Torgersen\", \"Beak Length (mm)\": 35.7, \"Beak Depth (mm)\": 17.0, \"Flipper Length (mm)\": 189.0, \"Body Mass (g)\": 3350.0, \"Sex\": \"FEMALE\"}, {\"Species\": \"Adelie\", \"Island\": \"Torgersen\", \"Beak Length (mm)\": 41.1, \"Beak Depth (mm)\": 18.6, \"Flipper Length (mm)\": 189.0, \"Body Mass (g)\": 3325.0, \"Sex\": \"MALE\"}, {\"Species\": \"Adelie\", \"Island\": \"Torgersen\", \"Beak Length (mm)\": 36.2, \"Beak Depth (mm)\": 17.2, \"Flipper Length (mm)\": 187.0, \"Body Mass (g)\": 3150.0, \"Sex\": \"FEMALE\"}, {\"Species\": \"Adelie\", \"Island\": \"Torgersen\", \"Beak Length (mm)\": 37.7, \"Beak Depth (mm)\": 19.8, \"Flipper Length (mm)\": 198.0, \"Body Mass (g)\": 3500.0, \"Sex\": \"MALE\"}, {\"Species\": \"Adelie\", \"Island\": \"Torgersen\", \"Beak Length (mm)\": 40.2, \"Beak Depth (mm)\": 17.0, \"Flipper Length (mm)\": 176.0, \"Body Mass (g)\": 3450.0, \"Sex\": \"FEMALE\"}, {\"Species\": \"Adelie\", \"Island\": \"Torgersen\", \"Beak Length (mm)\": 41.4, \"Beak Depth (mm)\": 18.5, \"Flipper Length (mm)\": 202.0, \"Body Mass (g)\": 3875.0, \"Sex\": \"MALE\"}, {\"Species\": \"Adelie\", \"Island\": \"Torgersen\", \"Beak Length (mm)\": 35.2, \"Beak Depth (mm)\": 15.9, \"Flipper Length (mm)\": 186.0, \"Body Mass (g)\": 3050.0, \"Sex\": \"FEMALE\"}, {\"Species\": \"Adelie\", \"Island\": \"Torgersen\", \"Beak Length (mm)\": 40.6, \"Beak Depth (mm)\": 19.0, \"Flipper Length (mm)\": 199.0, \"Body Mass (g)\": 4000.0, \"Sex\": \"MALE\"}, {\"Species\": \"Adelie\", \"Island\": \"Torgersen\", \"Beak Length (mm)\": 38.8, \"Beak Depth (mm)\": 17.6, \"Flipper Length (mm)\": 191.0, \"Body Mass (g)\": 3275.0, \"Sex\": \"FEMALE\"}, {\"Species\": \"Adelie\", \"Island\": \"Torgersen\", \"Beak Length (mm)\": 41.5, \"Beak Depth (mm)\": 18.3, \"Flipper Length (mm)\": 195.0, \"Body Mass (g)\": 4300.0, \"Sex\": \"MALE\"}, {\"Species\": \"Adelie\", \"Island\": \"Torgersen\", \"Beak Length (mm)\": 39.0, \"Beak Depth (mm)\": 17.1, \"Flipper Length (mm)\": 191.0, \"Body Mass (g)\": 3050.0, \"Sex\": \"FEMALE\"}, {\"Species\": \"Adelie\", \"Island\": \"Torgersen\", \"Beak Length (mm)\": 44.1, \"Beak Depth (mm)\": 18.0, \"Flipper Length (mm)\": 210.0, \"Body Mass (g)\": 4000.0, \"Sex\": \"MALE\"}, {\"Species\": \"Adelie\", \"Island\": \"Torgersen\", \"Beak Length (mm)\": 38.5, \"Beak Depth (mm)\": 17.9, \"Flipper Length (mm)\": 190.0, \"Body Mass (g)\": 3325.0, \"Sex\": \"FEMALE\"}, {\"Species\": \"Adelie\", \"Island\": \"Torgersen\", \"Beak Length (mm)\": 43.1, \"Beak Depth (mm)\": 19.2, \"Flipper Length (mm)\": 197.0, \"Body Mass (g)\": 3500.0, \"Sex\": \"MALE\"}, {\"Species\": \"Adelie\", \"Island\": \"Dream\", \"Beak Length (mm)\": 36.8, \"Beak Depth (mm)\": 18.5, \"Flipper Length (mm)\": 193.0, \"Body Mass (g)\": 3500.0, \"Sex\": \"FEMALE\"}, {\"Species\": \"Adelie\", \"Island\": \"Dream\", \"Beak Length (mm)\": 37.5, \"Beak Depth (mm)\": 18.5, \"Flipper Length (mm)\": 199.0, \"Body Mass (g)\": 4475.0, \"Sex\": \"MALE\"}, {\"Species\": \"Adelie\", \"Island\": \"Dream\", \"Beak Length (mm)\": 38.1, \"Beak Depth (mm)\": 17.6, \"Flipper Length (mm)\": 187.0, \"Body Mass (g)\": 3425.0, \"Sex\": \"FEMALE\"}, {\"Species\": \"Adelie\", \"Island\": \"Dream\", \"Beak Length (mm)\": 41.1, \"Beak Depth (mm)\": 17.5, \"Flipper Length (mm)\": 190.0, \"Body Mass (g)\": 3900.0, \"Sex\": \"MALE\"}, {\"Species\": \"Adelie\", \"Island\": \"Dream\", \"Beak Length (mm)\": 35.6, \"Beak Depth (mm)\": 17.5, \"Flipper Length (mm)\": 191.0, \"Body Mass (g)\": 3175.0, \"Sex\": \"FEMALE\"}, {\"Species\": \"Adelie\", \"Island\": \"Dream\", \"Beak Length (mm)\": 40.2, \"Beak Depth (mm)\": 20.1, \"Flipper Length (mm)\": 200.0, \"Body Mass (g)\": 3975.0, \"Sex\": \"MALE\"}, {\"Species\": \"Adelie\", \"Island\": \"Dream\", \"Beak Length (mm)\": 37.0, \"Beak Depth (mm)\": 16.5, \"Flipper Length (mm)\": 185.0, \"Body Mass (g)\": 3400.0, \"Sex\": \"FEMALE\"}, {\"Species\": \"Adelie\", \"Island\": \"Dream\", \"Beak Length (mm)\": 39.7, \"Beak Depth (mm)\": 17.9, \"Flipper Length (mm)\": 193.0, \"Body Mass (g)\": 4250.0, \"Sex\": \"MALE\"}, {\"Species\": \"Adelie\", \"Island\": \"Dream\", \"Beak Length (mm)\": 40.2, \"Beak Depth (mm)\": 17.1, \"Flipper Length (mm)\": 193.0, \"Body Mass (g)\": 3400.0, \"Sex\": \"FEMALE\"}, {\"Species\": \"Adelie\", \"Island\": \"Dream\", \"Beak Length (mm)\": 40.6, \"Beak Depth (mm)\": 17.2, \"Flipper Length (mm)\": 187.0, \"Body Mass (g)\": 3475.0, \"Sex\": \"MALE\"}, {\"Species\": \"Adelie\", \"Island\": \"Dream\", \"Beak Length (mm)\": 32.1, \"Beak Depth (mm)\": 15.5, \"Flipper Length (mm)\": 188.0, \"Body Mass (g)\": 3050.0, \"Sex\": \"FEMALE\"}, {\"Species\": \"Adelie\", \"Island\": \"Dream\", \"Beak Length (mm)\": 40.7, \"Beak Depth (mm)\": 17.0, \"Flipper Length (mm)\": 190.0, \"Body Mass (g)\": 3725.0, \"Sex\": \"MALE\"}, {\"Species\": \"Adelie\", \"Island\": \"Dream\", \"Beak Length (mm)\": 37.3, \"Beak Depth (mm)\": 16.8, \"Flipper Length (mm)\": 192.0, \"Body Mass (g)\": 3000.0, \"Sex\": \"FEMALE\"}, {\"Species\": \"Adelie\", \"Island\": \"Dream\", \"Beak Length (mm)\": 39.0, \"Beak Depth (mm)\": 18.7, \"Flipper Length (mm)\": 185.0, \"Body Mass (g)\": 3650.0, \"Sex\": \"MALE\"}, {\"Species\": \"Adelie\", \"Island\": \"Dream\", \"Beak Length (mm)\": 39.2, \"Beak Depth (mm)\": 18.6, \"Flipper Length (mm)\": 190.0, \"Body Mass (g)\": 4250.0, \"Sex\": \"MALE\"}, {\"Species\": \"Adelie\", \"Island\": \"Dream\", \"Beak Length (mm)\": 36.6, \"Beak Depth (mm)\": 18.4, \"Flipper Length (mm)\": 184.0, \"Body Mass (g)\": 3475.0, \"Sex\": \"FEMALE\"}, {\"Species\": \"Adelie\", \"Island\": \"Dream\", \"Beak Length (mm)\": 36.0, \"Beak Depth (mm)\": 17.8, \"Flipper Length (mm)\": 195.0, \"Body Mass (g)\": 3450.0, \"Sex\": \"FEMALE\"}, {\"Species\": \"Adelie\", \"Island\": \"Dream\", \"Beak Length (mm)\": 37.8, \"Beak Depth (mm)\": 18.1, \"Flipper Length (mm)\": 193.0, \"Body Mass (g)\": 3750.0, \"Sex\": \"MALE\"}, {\"Species\": \"Adelie\", \"Island\": \"Dream\", \"Beak Length (mm)\": 36.0, \"Beak Depth (mm)\": 17.1, \"Flipper Length (mm)\": 187.0, \"Body Mass (g)\": 3700.0, \"Sex\": \"FEMALE\"}, {\"Species\": \"Adelie\", \"Island\": \"Dream\", \"Beak Length (mm)\": 41.5, \"Beak Depth (mm)\": 18.5, \"Flipper Length (mm)\": 201.0, \"Body Mass (g)\": 4000.0, \"Sex\": \"MALE\"}, {\"Species\": \"Chinstrap\", \"Island\": \"Dream\", \"Beak Length (mm)\": 46.5, \"Beak Depth (mm)\": 17.9, \"Flipper Length (mm)\": 192.0, \"Body Mass (g)\": 3500.0, \"Sex\": \"FEMALE\"}, {\"Species\": \"Chinstrap\", \"Island\": \"Dream\", \"Beak Length (mm)\": 50.0, \"Beak Depth (mm)\": 19.5, \"Flipper Length (mm)\": 196.0, \"Body Mass (g)\": 3900.0, \"Sex\": \"MALE\"}, {\"Species\": \"Chinstrap\", \"Island\": \"Dream\", \"Beak Length (mm)\": 51.3, \"Beak Depth (mm)\": 19.2, \"Flipper Length (mm)\": 193.0, \"Body Mass (g)\": 3650.0, \"Sex\": \"MALE\"}, {\"Species\": \"Chinstrap\", \"Island\": \"Dream\", \"Beak Length (mm)\": 45.4, \"Beak Depth (mm)\": 18.7, \"Flipper Length (mm)\": 188.0, \"Body Mass (g)\": 3525.0, \"Sex\": \"FEMALE\"}, {\"Species\": \"Chinstrap\", \"Island\": \"Dream\", \"Beak Length (mm)\": 52.7, \"Beak Depth (mm)\": 19.8, \"Flipper Length (mm)\": 197.0, \"Body Mass (g)\": 3725.0, \"Sex\": \"MALE\"}, {\"Species\": \"Chinstrap\", \"Island\": \"Dream\", \"Beak Length (mm)\": 45.2, \"Beak Depth (mm)\": 17.8, \"Flipper Length (mm)\": 198.0, \"Body Mass (g)\": 3950.0, \"Sex\": \"FEMALE\"}, {\"Species\": \"Chinstrap\", \"Island\": \"Dream\", \"Beak Length (mm)\": 46.1, \"Beak Depth (mm)\": 18.2, \"Flipper Length (mm)\": 178.0, \"Body Mass (g)\": 3250.0, \"Sex\": \"FEMALE\"}, {\"Species\": \"Chinstrap\", \"Island\": \"Dream\", \"Beak Length (mm)\": 51.3, \"Beak Depth (mm)\": 18.2, \"Flipper Length (mm)\": 197.0, \"Body Mass (g)\": 3750.0, \"Sex\": \"MALE\"}, {\"Species\": \"Chinstrap\", \"Island\": \"Dream\", \"Beak Length (mm)\": 46.0, \"Beak Depth (mm)\": 18.9, \"Flipper Length (mm)\": 195.0, \"Body Mass (g)\": 4150.0, \"Sex\": \"FEMALE\"}, {\"Species\": \"Chinstrap\", \"Island\": \"Dream\", \"Beak Length (mm)\": 51.3, \"Beak Depth (mm)\": 19.9, \"Flipper Length (mm)\": 198.0, \"Body Mass (g)\": 3700.0, \"Sex\": \"MALE\"}, {\"Species\": \"Chinstrap\", \"Island\": \"Dream\", \"Beak Length (mm)\": 46.6, \"Beak Depth (mm)\": 17.8, \"Flipper Length (mm)\": 193.0, \"Body Mass (g)\": 3800.0, \"Sex\": \"FEMALE\"}, {\"Species\": \"Chinstrap\", \"Island\": \"Dream\", \"Beak Length (mm)\": 51.7, \"Beak Depth (mm)\": 20.3, \"Flipper Length (mm)\": 194.0, \"Body Mass (g)\": 3775.0, \"Sex\": \"MALE\"}, {\"Species\": \"Chinstrap\", \"Island\": \"Dream\", \"Beak Length (mm)\": 47.0, \"Beak Depth (mm)\": 17.3, \"Flipper Length (mm)\": 185.0, \"Body Mass (g)\": 3700.0, \"Sex\": \"FEMALE\"}, {\"Species\": \"Chinstrap\", \"Island\": \"Dream\", \"Beak Length (mm)\": 52.0, \"Beak Depth (mm)\": 18.1, \"Flipper Length (mm)\": 201.0, \"Body Mass (g)\": 4050.0, \"Sex\": \"MALE\"}, {\"Species\": \"Chinstrap\", \"Island\": \"Dream\", \"Beak Length (mm)\": 45.9, \"Beak Depth (mm)\": 17.1, \"Flipper Length (mm)\": 190.0, \"Body Mass (g)\": 3575.0, \"Sex\": \"FEMALE\"}, {\"Species\": \"Chinstrap\", \"Island\": \"Dream\", \"Beak Length (mm)\": 50.5, \"Beak Depth (mm)\": 19.6, \"Flipper Length (mm)\": 201.0, \"Body Mass (g)\": 4050.0, \"Sex\": \"MALE\"}, {\"Species\": \"Chinstrap\", \"Island\": \"Dream\", \"Beak Length (mm)\": 50.3, \"Beak Depth (mm)\": 20.0, \"Flipper Length (mm)\": 197.0, \"Body Mass (g)\": 3300.0, \"Sex\": \"MALE\"}, {\"Species\": \"Chinstrap\", \"Island\": \"Dream\", \"Beak Length (mm)\": 58.0, \"Beak Depth (mm)\": 17.8, \"Flipper Length (mm)\": 181.0, \"Body Mass (g)\": 3700.0, \"Sex\": \"FEMALE\"}, {\"Species\": \"Chinstrap\", \"Island\": \"Dream\", \"Beak Length (mm)\": 46.4, \"Beak Depth (mm)\": 18.6, \"Flipper Length (mm)\": 190.0, \"Body Mass (g)\": 3450.0, \"Sex\": \"FEMALE\"}, {\"Species\": \"Chinstrap\", \"Island\": \"Dream\", \"Beak Length (mm)\": 49.2, \"Beak Depth (mm)\": 18.2, \"Flipper Length (mm)\": 195.0, \"Body Mass (g)\": 4400.0, \"Sex\": \"MALE\"}, {\"Species\": \"Chinstrap\", \"Island\": \"Dream\", \"Beak Length (mm)\": 42.4, \"Beak Depth (mm)\": 17.3, \"Flipper Length (mm)\": 181.0, \"Body Mass (g)\": 3600.0, \"Sex\": \"FEMALE\"}, {\"Species\": \"Chinstrap\", \"Island\": \"Dream\", \"Beak Length (mm)\": 48.5, \"Beak Depth (mm)\": 17.5, \"Flipper Length (mm)\": 191.0, \"Body Mass (g)\": 3400.0, \"Sex\": \"MALE\"}, {\"Species\": \"Chinstrap\", \"Island\": \"Dream\", \"Beak Length (mm)\": 43.2, \"Beak Depth (mm)\": 16.6, \"Flipper Length (mm)\": 187.0, \"Body Mass (g)\": 2900.0, \"Sex\": \"FEMALE\"}, {\"Species\": \"Chinstrap\", \"Island\": \"Dream\", \"Beak Length (mm)\": 50.6, \"Beak Depth (mm)\": 19.4, \"Flipper Length (mm)\": 193.0, \"Body Mass (g)\": 3800.0, \"Sex\": \"MALE\"}, {\"Species\": \"Chinstrap\", \"Island\": \"Dream\", \"Beak Length (mm)\": 46.7, \"Beak Depth (mm)\": 17.9, \"Flipper Length (mm)\": 195.0, \"Body Mass (g)\": 3300.0, \"Sex\": \"FEMALE\"}, {\"Species\": \"Chinstrap\", \"Island\": \"Dream\", \"Beak Length (mm)\": 52.0, \"Beak Depth (mm)\": 19.0, \"Flipper Length (mm)\": 197.0, \"Body Mass (g)\": 4150.0, \"Sex\": \"MALE\"}, {\"Species\": \"Chinstrap\", \"Island\": \"Dream\", \"Beak Length (mm)\": 50.5, \"Beak Depth (mm)\": 18.4, \"Flipper Length (mm)\": 200.0, \"Body Mass (g)\": 3400.0, \"Sex\": \"FEMALE\"}, {\"Species\": \"Chinstrap\", \"Island\": \"Dream\", \"Beak Length (mm)\": 49.5, \"Beak Depth (mm)\": 19.0, \"Flipper Length (mm)\": 200.0, \"Body Mass (g)\": 3800.0, \"Sex\": \"MALE\"}, {\"Species\": \"Chinstrap\", \"Island\": \"Dream\", \"Beak Length (mm)\": 46.4, \"Beak Depth (mm)\": 17.8, \"Flipper Length (mm)\": 191.0, \"Body Mass (g)\": 3700.0, \"Sex\": \"FEMALE\"}, {\"Species\": \"Chinstrap\", \"Island\": \"Dream\", \"Beak Length (mm)\": 52.8, \"Beak Depth (mm)\": 20.0, \"Flipper Length (mm)\": 205.0, \"Body Mass (g)\": 4550.0, \"Sex\": \"MALE\"}, {\"Species\": \"Chinstrap\", \"Island\": \"Dream\", \"Beak Length (mm)\": 40.9, \"Beak Depth (mm)\": 16.6, \"Flipper Length (mm)\": 187.0, \"Body Mass (g)\": 3200.0, \"Sex\": \"FEMALE\"}, {\"Species\": \"Chinstrap\", \"Island\": \"Dream\", \"Beak Length (mm)\": 54.2, \"Beak Depth (mm)\": 20.8, \"Flipper Length (mm)\": 201.0, \"Body Mass (g)\": 4300.0, \"Sex\": \"MALE\"}, {\"Species\": \"Chinstrap\", \"Island\": \"Dream\", \"Beak Length (mm)\": 42.5, \"Beak Depth (mm)\": 16.7, \"Flipper Length (mm)\": 187.0, \"Body Mass (g)\": 3350.0, \"Sex\": \"FEMALE\"}, {\"Species\": \"Chinstrap\", \"Island\": \"Dream\", \"Beak Length (mm)\": 51.0, \"Beak Depth (mm)\": 18.8, \"Flipper Length (mm)\": 203.0, \"Body Mass (g)\": 4100.0, \"Sex\": \"MALE\"}, {\"Species\": \"Chinstrap\", \"Island\": \"Dream\", \"Beak Length (mm)\": 49.7, \"Beak Depth (mm)\": 18.6, \"Flipper Length (mm)\": 195.0, \"Body Mass (g)\": 3600.0, \"Sex\": \"MALE\"}, {\"Species\": \"Chinstrap\", \"Island\": \"Dream\", \"Beak Length (mm)\": 47.5, \"Beak Depth (mm)\": 16.8, \"Flipper Length (mm)\": 199.0, \"Body Mass (g)\": 3900.0, \"Sex\": \"FEMALE\"}, {\"Species\": \"Chinstrap\", \"Island\": \"Dream\", \"Beak Length (mm)\": 47.6, \"Beak Depth (mm)\": 18.3, \"Flipper Length (mm)\": 195.0, \"Body Mass (g)\": 3850.0, \"Sex\": \"FEMALE\"}, {\"Species\": \"Chinstrap\", \"Island\": \"Dream\", \"Beak Length (mm)\": 52.0, \"Beak Depth (mm)\": 20.7, \"Flipper Length (mm)\": 210.0, \"Body Mass (g)\": 4800.0, \"Sex\": \"MALE\"}, {\"Species\": \"Chinstrap\", \"Island\": \"Dream\", \"Beak Length (mm)\": 46.9, \"Beak Depth (mm)\": 16.6, \"Flipper Length (mm)\": 192.0, \"Body Mass (g)\": 2700.0, \"Sex\": \"FEMALE\"}, {\"Species\": \"Chinstrap\", \"Island\": \"Dream\", \"Beak Length (mm)\": 53.5, \"Beak Depth (mm)\": 19.9, \"Flipper Length (mm)\": 205.0, \"Body Mass (g)\": 4500.0, \"Sex\": \"MALE\"}, {\"Species\": \"Chinstrap\", \"Island\": \"Dream\", \"Beak Length (mm)\": 49.0, \"Beak Depth (mm)\": 19.5, \"Flipper Length (mm)\": 210.0, \"Body Mass (g)\": 3950.0, \"Sex\": \"MALE\"}, {\"Species\": \"Chinstrap\", \"Island\": \"Dream\", \"Beak Length (mm)\": 46.2, \"Beak Depth (mm)\": 17.5, \"Flipper Length (mm)\": 187.0, \"Body Mass (g)\": 3650.0, \"Sex\": \"FEMALE\"}, {\"Species\": \"Chinstrap\", \"Island\": \"Dream\", \"Beak Length (mm)\": 50.9, \"Beak Depth (mm)\": 19.1, \"Flipper Length (mm)\": 196.0, \"Body Mass (g)\": 3550.0, \"Sex\": \"MALE\"}, {\"Species\": \"Chinstrap\", \"Island\": \"Dream\", \"Beak Length (mm)\": 45.5, \"Beak Depth (mm)\": 17.0, \"Flipper Length (mm)\": 196.0, \"Body Mass (g)\": 3500.0, \"Sex\": \"FEMALE\"}, {\"Species\": \"Chinstrap\", \"Island\": \"Dream\", \"Beak Length (mm)\": 50.9, \"Beak Depth (mm)\": 17.9, \"Flipper Length (mm)\": 196.0, \"Body Mass (g)\": 3675.0, \"Sex\": \"FEMALE\"}, {\"Species\": \"Chinstrap\", \"Island\": \"Dream\", \"Beak Length (mm)\": 50.8, \"Beak Depth (mm)\": 18.5, \"Flipper Length (mm)\": 201.0, \"Body Mass (g)\": 4450.0, \"Sex\": \"MALE\"}, {\"Species\": \"Chinstrap\", \"Island\": \"Dream\", \"Beak Length (mm)\": 50.1, \"Beak Depth (mm)\": 17.9, \"Flipper Length (mm)\": 190.0, \"Body Mass (g)\": 3400.0, \"Sex\": \"FEMALE\"}, {\"Species\": \"Chinstrap\", \"Island\": \"Dream\", \"Beak Length (mm)\": 49.0, \"Beak Depth (mm)\": 19.6, \"Flipper Length (mm)\": 212.0, \"Body Mass (g)\": 4300.0, \"Sex\": \"MALE\"}, {\"Species\": \"Chinstrap\", \"Island\": \"Dream\", \"Beak Length (mm)\": 51.5, \"Beak Depth (mm)\": 18.7, \"Flipper Length (mm)\": 187.0, \"Body Mass (g)\": 3250.0, \"Sex\": \"MALE\"}, {\"Species\": \"Chinstrap\", \"Island\": \"Dream\", \"Beak Length (mm)\": 49.8, \"Beak Depth (mm)\": 17.3, \"Flipper Length (mm)\": 198.0, \"Body Mass (g)\": 3675.0, \"Sex\": \"FEMALE\"}, {\"Species\": \"Chinstrap\", \"Island\": \"Dream\", \"Beak Length (mm)\": 48.1, \"Beak Depth (mm)\": 16.4, \"Flipper Length (mm)\": 199.0, \"Body Mass (g)\": 3325.0, \"Sex\": \"FEMALE\"}, {\"Species\": \"Chinstrap\", \"Island\": \"Dream\", \"Beak Length (mm)\": 51.4, \"Beak Depth (mm)\": 19.0, \"Flipper Length (mm)\": 201.0, \"Body Mass (g)\": 3950.0, \"Sex\": \"MALE\"}, {\"Species\": \"Chinstrap\", \"Island\": \"Dream\", \"Beak Length (mm)\": 45.7, \"Beak Depth (mm)\": 17.3, \"Flipper Length (mm)\": 193.0, \"Body Mass (g)\": 3600.0, \"Sex\": \"FEMALE\"}, {\"Species\": \"Chinstrap\", \"Island\": \"Dream\", \"Beak Length (mm)\": 50.7, \"Beak Depth (mm)\": 19.7, \"Flipper Length (mm)\": 203.0, \"Body Mass (g)\": 4050.0, \"Sex\": \"MALE\"}, {\"Species\": \"Chinstrap\", \"Island\": \"Dream\", \"Beak Length (mm)\": 42.5, \"Beak Depth (mm)\": 17.3, \"Flipper Length (mm)\": 187.0, \"Body Mass (g)\": 3350.0, \"Sex\": \"FEMALE\"}, {\"Species\": \"Chinstrap\", \"Island\": \"Dream\", \"Beak Length (mm)\": 52.2, \"Beak Depth (mm)\": 18.8, \"Flipper Length (mm)\": 197.0, \"Body Mass (g)\": 3450.0, \"Sex\": \"MALE\"}, {\"Species\": \"Chinstrap\", \"Island\": \"Dream\", \"Beak Length (mm)\": 45.2, \"Beak Depth (mm)\": 16.6, \"Flipper Length (mm)\": 191.0, \"Body Mass (g)\": 3250.0, \"Sex\": \"FEMALE\"}, {\"Species\": \"Chinstrap\", \"Island\": \"Dream\", \"Beak Length (mm)\": 49.3, \"Beak Depth (mm)\": 19.9, \"Flipper Length (mm)\": 203.0, \"Body Mass (g)\": 4050.0, \"Sex\": \"MALE\"}, {\"Species\": \"Chinstrap\", \"Island\": \"Dream\", \"Beak Length (mm)\": 50.2, \"Beak Depth (mm)\": 18.8, \"Flipper Length (mm)\": 202.0, \"Body Mass (g)\": 3800.0, \"Sex\": \"MALE\"}, {\"Species\": \"Chinstrap\", \"Island\": \"Dream\", \"Beak Length (mm)\": 45.6, \"Beak Depth (mm)\": 19.4, \"Flipper Length (mm)\": 194.0, \"Body Mass (g)\": 3525.0, \"Sex\": \"FEMALE\"}, {\"Species\": \"Chinstrap\", \"Island\": \"Dream\", \"Beak Length (mm)\": 51.9, \"Beak Depth (mm)\": 19.5, \"Flipper Length (mm)\": 206.0, \"Body Mass (g)\": 3950.0, \"Sex\": \"MALE\"}, {\"Species\": \"Chinstrap\", \"Island\": \"Dream\", \"Beak Length (mm)\": 46.8, \"Beak Depth (mm)\": 16.5, \"Flipper Length (mm)\": 189.0, \"Body Mass (g)\": 3650.0, \"Sex\": \"FEMALE\"}, {\"Species\": \"Chinstrap\", \"Island\": \"Dream\", \"Beak Length (mm)\": 45.7, \"Beak Depth (mm)\": 17.0, \"Flipper Length (mm)\": 195.0, \"Body Mass (g)\": 3650.0, \"Sex\": \"FEMALE\"}, {\"Species\": \"Chinstrap\", \"Island\": \"Dream\", \"Beak Length (mm)\": 55.8, \"Beak Depth (mm)\": 19.8, \"Flipper Length (mm)\": 207.0, \"Body Mass (g)\": 4000.0, \"Sex\": \"MALE\"}, {\"Species\": \"Chinstrap\", \"Island\": \"Dream\", \"Beak Length (mm)\": 43.5, \"Beak Depth (mm)\": 18.1, \"Flipper Length (mm)\": 202.0, \"Body Mass (g)\": 3400.0, \"Sex\": \"FEMALE\"}, {\"Species\": \"Chinstrap\", \"Island\": \"Dream\", \"Beak Length (mm)\": 49.6, \"Beak Depth (mm)\": 18.2, \"Flipper Length (mm)\": 193.0, \"Body Mass (g)\": 3775.0, \"Sex\": \"MALE\"}, {\"Species\": \"Chinstrap\", \"Island\": \"Dream\", \"Beak Length (mm)\": 50.8, \"Beak Depth (mm)\": 19.0, \"Flipper Length (mm)\": 210.0, \"Body Mass (g)\": 4100.0, \"Sex\": \"MALE\"}, {\"Species\": \"Chinstrap\", \"Island\": \"Dream\", \"Beak Length (mm)\": 50.2, \"Beak Depth (mm)\": 18.7, \"Flipper Length (mm)\": 198.0, \"Body Mass (g)\": 3775.0, \"Sex\": \"FEMALE\"}, {\"Species\": \"Gentoo\", \"Island\": \"Biscoe\", \"Beak Length (mm)\": 46.1, \"Beak Depth (mm)\": 13.2, \"Flipper Length (mm)\": 211.0, \"Body Mass (g)\": 4500.0, \"Sex\": \"FEMALE\"}, {\"Species\": \"Gentoo\", \"Island\": \"Biscoe\", \"Beak Length (mm)\": 50.0, \"Beak Depth (mm)\": 16.3, \"Flipper Length (mm)\": 230.0, \"Body Mass (g)\": 5700.0, \"Sex\": \"MALE\"}, {\"Species\": \"Gentoo\", \"Island\": \"Biscoe\", \"Beak Length (mm)\": 48.7, \"Beak Depth (mm)\": 14.1, \"Flipper Length (mm)\": 210.0, \"Body Mass (g)\": 4450.0, \"Sex\": \"FEMALE\"}, {\"Species\": \"Gentoo\", \"Island\": \"Biscoe\", \"Beak Length (mm)\": 50.0, \"Beak Depth (mm)\": 15.2, \"Flipper Length (mm)\": 218.0, \"Body Mass (g)\": 5700.0, \"Sex\": \"MALE\"}, {\"Species\": \"Gentoo\", \"Island\": \"Biscoe\", \"Beak Length (mm)\": 47.6, \"Beak Depth (mm)\": 14.5, \"Flipper Length (mm)\": 215.0, \"Body Mass (g)\": 5400.0, \"Sex\": \"MALE\"}, {\"Species\": \"Gentoo\", \"Island\": \"Biscoe\", \"Beak Length (mm)\": 46.5, \"Beak Depth (mm)\": 13.5, \"Flipper Length (mm)\": 210.0, \"Body Mass (g)\": 4550.0, \"Sex\": \"FEMALE\"}, {\"Species\": \"Gentoo\", \"Island\": \"Biscoe\", \"Beak Length (mm)\": 45.4, \"Beak Depth (mm)\": 14.6, \"Flipper Length (mm)\": 211.0, \"Body Mass (g)\": 4800.0, \"Sex\": \"FEMALE\"}, {\"Species\": \"Gentoo\", \"Island\": \"Biscoe\", \"Beak Length (mm)\": 46.7, \"Beak Depth (mm)\": 15.3, \"Flipper Length (mm)\": 219.0, \"Body Mass (g)\": 5200.0, \"Sex\": \"MALE\"}, {\"Species\": \"Gentoo\", \"Island\": \"Biscoe\", \"Beak Length (mm)\": 43.3, \"Beak Depth (mm)\": 13.4, \"Flipper Length (mm)\": 209.0, \"Body Mass (g)\": 4400.0, \"Sex\": \"FEMALE\"}, {\"Species\": \"Gentoo\", \"Island\": \"Biscoe\", \"Beak Length (mm)\": 46.8, \"Beak Depth (mm)\": 15.4, \"Flipper Length (mm)\": 215.0, \"Body Mass (g)\": 5150.0, \"Sex\": \"MALE\"}, {\"Species\": \"Gentoo\", \"Island\": \"Biscoe\", \"Beak Length (mm)\": 40.9, \"Beak Depth (mm)\": 13.7, \"Flipper Length (mm)\": 214.0, \"Body Mass (g)\": 4650.0, \"Sex\": \"FEMALE\"}, {\"Species\": \"Gentoo\", \"Island\": \"Biscoe\", \"Beak Length (mm)\": 49.0, \"Beak Depth (mm)\": 16.1, \"Flipper Length (mm)\": 216.0, \"Body Mass (g)\": 5550.0, \"Sex\": \"MALE\"}, {\"Species\": \"Gentoo\", \"Island\": \"Biscoe\", \"Beak Length (mm)\": 45.5, \"Beak Depth (mm)\": 13.7, \"Flipper Length (mm)\": 214.0, \"Body Mass (g)\": 4650.0, \"Sex\": \"FEMALE\"}, {\"Species\": \"Gentoo\", \"Island\": \"Biscoe\", \"Beak Length (mm)\": 48.4, \"Beak Depth (mm)\": 14.6, \"Flipper Length (mm)\": 213.0, \"Body Mass (g)\": 5850.0, \"Sex\": \"MALE\"}, {\"Species\": \"Gentoo\", \"Island\": \"Biscoe\", \"Beak Length (mm)\": 45.8, \"Beak Depth (mm)\": 14.6, \"Flipper Length (mm)\": 210.0, \"Body Mass (g)\": 4200.0, \"Sex\": \"FEMALE\"}, {\"Species\": \"Gentoo\", \"Island\": \"Biscoe\", \"Beak Length (mm)\": 49.3, \"Beak Depth (mm)\": 15.7, \"Flipper Length (mm)\": 217.0, \"Body Mass (g)\": 5850.0, \"Sex\": \"MALE\"}, {\"Species\": \"Gentoo\", \"Island\": \"Biscoe\", \"Beak Length (mm)\": 42.0, \"Beak Depth (mm)\": 13.5, \"Flipper Length (mm)\": 210.0, \"Body Mass (g)\": 4150.0, \"Sex\": \"FEMALE\"}, {\"Species\": \"Gentoo\", \"Island\": \"Biscoe\", \"Beak Length (mm)\": 49.2, \"Beak Depth (mm)\": 15.2, \"Flipper Length (mm)\": 221.0, \"Body Mass (g)\": 6300.0, \"Sex\": \"MALE\"}, {\"Species\": \"Gentoo\", \"Island\": \"Biscoe\", \"Beak Length (mm)\": 46.2, \"Beak Depth (mm)\": 14.5, \"Flipper Length (mm)\": 209.0, \"Body Mass (g)\": 4800.0, \"Sex\": \"FEMALE\"}, {\"Species\": \"Gentoo\", \"Island\": \"Biscoe\", \"Beak Length (mm)\": 48.7, \"Beak Depth (mm)\": 15.1, \"Flipper Length (mm)\": 222.0, \"Body Mass (g)\": 5350.0, \"Sex\": \"MALE\"}, {\"Species\": \"Gentoo\", \"Island\": \"Biscoe\", \"Beak Length (mm)\": 50.2, \"Beak Depth (mm)\": 14.3, \"Flipper Length (mm)\": 218.0, \"Body Mass (g)\": 5700.0, \"Sex\": \"MALE\"}, {\"Species\": \"Gentoo\", \"Island\": \"Biscoe\", \"Beak Length (mm)\": 45.1, \"Beak Depth (mm)\": 14.5, \"Flipper Length (mm)\": 215.0, \"Body Mass (g)\": 5000.0, \"Sex\": \"FEMALE\"}, {\"Species\": \"Gentoo\", \"Island\": \"Biscoe\", \"Beak Length (mm)\": 46.5, \"Beak Depth (mm)\": 14.5, \"Flipper Length (mm)\": 213.0, \"Body Mass (g)\": 4400.0, \"Sex\": \"FEMALE\"}, {\"Species\": \"Gentoo\", \"Island\": \"Biscoe\", \"Beak Length (mm)\": 46.3, \"Beak Depth (mm)\": 15.8, \"Flipper Length (mm)\": 215.0, \"Body Mass (g)\": 5050.0, \"Sex\": \"MALE\"}, {\"Species\": \"Gentoo\", \"Island\": \"Biscoe\", \"Beak Length (mm)\": 42.9, \"Beak Depth (mm)\": 13.1, \"Flipper Length (mm)\": 215.0, \"Body Mass (g)\": 5000.0, \"Sex\": \"FEMALE\"}, {\"Species\": \"Gentoo\", \"Island\": \"Biscoe\", \"Beak Length (mm)\": 46.1, \"Beak Depth (mm)\": 15.1, \"Flipper Length (mm)\": 215.0, \"Body Mass (g)\": 5100.0, \"Sex\": \"MALE\"}, {\"Species\": \"Gentoo\", \"Island\": \"Biscoe\", \"Beak Length (mm)\": 44.5, \"Beak Depth (mm)\": 14.3, \"Flipper Length (mm)\": 216.0, \"Body Mass (g)\": 4100.0, \"Sex\": NaN}, {\"Species\": \"Gentoo\", \"Island\": \"Biscoe\", \"Beak Length (mm)\": 47.8, \"Beak Depth (mm)\": 15.0, \"Flipper Length (mm)\": 215.0, \"Body Mass (g)\": 5650.0, \"Sex\": \"MALE\"}, {\"Species\": \"Gentoo\", \"Island\": \"Biscoe\", \"Beak Length (mm)\": 48.2, \"Beak Depth (mm)\": 14.3, \"Flipper Length (mm)\": 210.0, \"Body Mass (g)\": 4600.0, \"Sex\": \"FEMALE\"}, {\"Species\": \"Gentoo\", \"Island\": \"Biscoe\", \"Beak Length (mm)\": 50.0, \"Beak Depth (mm)\": 15.3, \"Flipper Length (mm)\": 220.0, \"Body Mass (g)\": 5550.0, \"Sex\": \"MALE\"}, {\"Species\": \"Gentoo\", \"Island\": \"Biscoe\", \"Beak Length (mm)\": 47.3, \"Beak Depth (mm)\": 15.3, \"Flipper Length (mm)\": 222.0, \"Body Mass (g)\": 5250.0, \"Sex\": \"MALE\"}, {\"Species\": \"Gentoo\", \"Island\": \"Biscoe\", \"Beak Length (mm)\": 42.8, \"Beak Depth (mm)\": 14.2, \"Flipper Length (mm)\": 209.0, \"Body Mass (g)\": 4700.0, \"Sex\": \"FEMALE\"}, {\"Species\": \"Gentoo\", \"Island\": \"Biscoe\", \"Beak Length (mm)\": 45.1, \"Beak Depth (mm)\": 14.5, \"Flipper Length (mm)\": 207.0, \"Body Mass (g)\": 5050.0, \"Sex\": \"FEMALE\"}, {\"Species\": \"Gentoo\", \"Island\": \"Biscoe\", \"Beak Length (mm)\": 59.6, \"Beak Depth (mm)\": 17.0, \"Flipper Length (mm)\": 230.0, \"Body Mass (g)\": 6050.0, \"Sex\": \"MALE\"}, {\"Species\": \"Gentoo\", \"Island\": \"Biscoe\", \"Beak Length (mm)\": 49.1, \"Beak Depth (mm)\": 14.8, \"Flipper Length (mm)\": 220.0, \"Body Mass (g)\": 5150.0, \"Sex\": \"FEMALE\"}, {\"Species\": \"Gentoo\", \"Island\": \"Biscoe\", \"Beak Length (mm)\": 48.4, \"Beak Depth (mm)\": 16.3, \"Flipper Length (mm)\": 220.0, \"Body Mass (g)\": 5400.0, \"Sex\": \"MALE\"}, {\"Species\": \"Gentoo\", \"Island\": \"Biscoe\", \"Beak Length (mm)\": 42.6, \"Beak Depth (mm)\": 13.7, \"Flipper Length (mm)\": 213.0, \"Body Mass (g)\": 4950.0, \"Sex\": \"FEMALE\"}, {\"Species\": \"Gentoo\", \"Island\": \"Biscoe\", \"Beak Length (mm)\": 44.4, \"Beak Depth (mm)\": 17.3, \"Flipper Length (mm)\": 219.0, \"Body Mass (g)\": 5250.0, \"Sex\": \"MALE\"}, {\"Species\": \"Gentoo\", \"Island\": \"Biscoe\", \"Beak Length (mm)\": 44.0, \"Beak Depth (mm)\": 13.6, \"Flipper Length (mm)\": 208.0, \"Body Mass (g)\": 4350.0, \"Sex\": \"FEMALE\"}, {\"Species\": \"Gentoo\", \"Island\": \"Biscoe\", \"Beak Length (mm)\": 48.7, \"Beak Depth (mm)\": 15.7, \"Flipper Length (mm)\": 208.0, \"Body Mass (g)\": 5350.0, \"Sex\": \"MALE\"}, {\"Species\": \"Gentoo\", \"Island\": \"Biscoe\", \"Beak Length (mm)\": 42.7, \"Beak Depth (mm)\": 13.7, \"Flipper Length (mm)\": 208.0, \"Body Mass (g)\": 3950.0, \"Sex\": \"FEMALE\"}, {\"Species\": \"Gentoo\", \"Island\": \"Biscoe\", \"Beak Length (mm)\": 49.6, \"Beak Depth (mm)\": 16.0, \"Flipper Length (mm)\": 225.0, \"Body Mass (g)\": 5700.0, \"Sex\": \"MALE\"}, {\"Species\": \"Gentoo\", \"Island\": \"Biscoe\", \"Beak Length (mm)\": 45.3, \"Beak Depth (mm)\": 13.7, \"Flipper Length (mm)\": 210.0, \"Body Mass (g)\": 4300.0, \"Sex\": \"FEMALE\"}, {\"Species\": \"Gentoo\", \"Island\": \"Biscoe\", \"Beak Length (mm)\": 49.6, \"Beak Depth (mm)\": 15.0, \"Flipper Length (mm)\": 216.0, \"Body Mass (g)\": 4750.0, \"Sex\": \"MALE\"}, {\"Species\": \"Gentoo\", \"Island\": \"Biscoe\", \"Beak Length (mm)\": 50.5, \"Beak Depth (mm)\": 15.9, \"Flipper Length (mm)\": 222.0, \"Body Mass (g)\": 5550.0, \"Sex\": \"MALE\"}, {\"Species\": \"Gentoo\", \"Island\": \"Biscoe\", \"Beak Length (mm)\": 43.6, \"Beak Depth (mm)\": 13.9, \"Flipper Length (mm)\": 217.0, \"Body Mass (g)\": 4900.0, \"Sex\": \"FEMALE\"}, {\"Species\": \"Gentoo\", \"Island\": \"Biscoe\", \"Beak Length (mm)\": 45.5, \"Beak Depth (mm)\": 13.9, \"Flipper Length (mm)\": 210.0, \"Body Mass (g)\": 4200.0, \"Sex\": \"FEMALE\"}, {\"Species\": \"Gentoo\", \"Island\": \"Biscoe\", \"Beak Length (mm)\": 50.5, \"Beak Depth (mm)\": 15.9, \"Flipper Length (mm)\": 225.0, \"Body Mass (g)\": 5400.0, \"Sex\": \"MALE\"}, {\"Species\": \"Gentoo\", \"Island\": \"Biscoe\", \"Beak Length (mm)\": 44.9, \"Beak Depth (mm)\": 13.3, \"Flipper Length (mm)\": 213.0, \"Body Mass (g)\": 5100.0, \"Sex\": \"FEMALE\"}, {\"Species\": \"Gentoo\", \"Island\": \"Biscoe\", \"Beak Length (mm)\": 45.2, \"Beak Depth (mm)\": 15.8, \"Flipper Length (mm)\": 215.0, \"Body Mass (g)\": 5300.0, \"Sex\": \"MALE\"}, {\"Species\": \"Gentoo\", \"Island\": \"Biscoe\", \"Beak Length (mm)\": 46.6, \"Beak Depth (mm)\": 14.2, \"Flipper Length (mm)\": 210.0, \"Body Mass (g)\": 4850.0, \"Sex\": \"FEMALE\"}, {\"Species\": \"Gentoo\", \"Island\": \"Biscoe\", \"Beak Length (mm)\": 48.5, \"Beak Depth (mm)\": 14.1, \"Flipper Length (mm)\": 220.0, \"Body Mass (g)\": 5300.0, \"Sex\": \"MALE\"}, {\"Species\": \"Gentoo\", \"Island\": \"Biscoe\", \"Beak Length (mm)\": 45.1, \"Beak Depth (mm)\": 14.4, \"Flipper Length (mm)\": 210.0, \"Body Mass (g)\": 4400.0, \"Sex\": \"FEMALE\"}, {\"Species\": \"Gentoo\", \"Island\": \"Biscoe\", \"Beak Length (mm)\": 50.1, \"Beak Depth (mm)\": 15.0, \"Flipper Length (mm)\": 225.0, \"Body Mass (g)\": 5000.0, \"Sex\": \"MALE\"}, {\"Species\": \"Gentoo\", \"Island\": \"Biscoe\", \"Beak Length (mm)\": 46.5, \"Beak Depth (mm)\": 14.4, \"Flipper Length (mm)\": 217.0, \"Body Mass (g)\": 4900.0, \"Sex\": \"FEMALE\"}, {\"Species\": \"Gentoo\", \"Island\": \"Biscoe\", \"Beak Length (mm)\": 45.0, \"Beak Depth (mm)\": 15.4, \"Flipper Length (mm)\": 220.0, \"Body Mass (g)\": 5050.0, \"Sex\": \"MALE\"}, {\"Species\": \"Gentoo\", \"Island\": \"Biscoe\", \"Beak Length (mm)\": 43.8, \"Beak Depth (mm)\": 13.9, \"Flipper Length (mm)\": 208.0, \"Body Mass (g)\": 4300.0, \"Sex\": \"FEMALE\"}, {\"Species\": \"Gentoo\", \"Island\": \"Biscoe\", \"Beak Length (mm)\": 45.5, \"Beak Depth (mm)\": 15.0, \"Flipper Length (mm)\": 220.0, \"Body Mass (g)\": 5000.0, \"Sex\": \"MALE\"}, {\"Species\": \"Gentoo\", \"Island\": \"Biscoe\", \"Beak Length (mm)\": 43.2, \"Beak Depth (mm)\": 14.5, \"Flipper Length (mm)\": 208.0, \"Body Mass (g)\": 4450.0, \"Sex\": \"FEMALE\"}, {\"Species\": \"Gentoo\", \"Island\": \"Biscoe\", \"Beak Length (mm)\": 50.4, \"Beak Depth (mm)\": 15.3, \"Flipper Length (mm)\": 224.0, \"Body Mass (g)\": 5550.0, \"Sex\": \"MALE\"}, {\"Species\": \"Gentoo\", \"Island\": \"Biscoe\", \"Beak Length (mm)\": 45.3, \"Beak Depth (mm)\": 13.8, \"Flipper Length (mm)\": 208.0, \"Body Mass (g)\": 4200.0, \"Sex\": \"FEMALE\"}, {\"Species\": \"Gentoo\", \"Island\": \"Biscoe\", \"Beak Length (mm)\": 46.2, \"Beak Depth (mm)\": 14.9, \"Flipper Length (mm)\": 221.0, \"Body Mass (g)\": 5300.0, \"Sex\": \"MALE\"}, {\"Species\": \"Gentoo\", \"Island\": \"Biscoe\", \"Beak Length (mm)\": 45.7, \"Beak Depth (mm)\": 13.9, \"Flipper Length (mm)\": 214.0, \"Body Mass (g)\": 4400.0, \"Sex\": \"FEMALE\"}, {\"Species\": \"Gentoo\", \"Island\": \"Biscoe\", \"Beak Length (mm)\": 54.3, \"Beak Depth (mm)\": 15.7, \"Flipper Length (mm)\": 231.0, \"Body Mass (g)\": 5650.0, \"Sex\": \"MALE\"}, {\"Species\": \"Gentoo\", \"Island\": \"Biscoe\", \"Beak Length (mm)\": 45.8, \"Beak Depth (mm)\": 14.2, \"Flipper Length (mm)\": 219.0, \"Body Mass (g)\": 4700.0, \"Sex\": \"FEMALE\"}, {\"Species\": \"Gentoo\", \"Island\": \"Biscoe\", \"Beak Length (mm)\": 49.8, \"Beak Depth (mm)\": 16.8, \"Flipper Length (mm)\": 230.0, \"Body Mass (g)\": 5700.0, \"Sex\": \"MALE\"}, {\"Species\": \"Gentoo\", \"Island\": \"Biscoe\", \"Beak Length (mm)\": 46.2, \"Beak Depth (mm)\": 14.4, \"Flipper Length (mm)\": 214.0, \"Body Mass (g)\": 4650.0, \"Sex\": NaN}, {\"Species\": \"Gentoo\", \"Island\": \"Biscoe\", \"Beak Length (mm)\": 49.5, \"Beak Depth (mm)\": 16.2, \"Flipper Length (mm)\": 229.0, \"Body Mass (g)\": 5800.0, \"Sex\": \"MALE\"}, {\"Species\": \"Gentoo\", \"Island\": \"Biscoe\", \"Beak Length (mm)\": 43.5, \"Beak Depth (mm)\": 14.2, \"Flipper Length (mm)\": 220.0, \"Body Mass (g)\": 4700.0, \"Sex\": \"FEMALE\"}, {\"Species\": \"Gentoo\", \"Island\": \"Biscoe\", \"Beak Length (mm)\": 50.7, \"Beak Depth (mm)\": 15.0, \"Flipper Length (mm)\": 223.0, \"Body Mass (g)\": 5550.0, \"Sex\": \"MALE\"}, {\"Species\": \"Gentoo\", \"Island\": \"Biscoe\", \"Beak Length (mm)\": 47.7, \"Beak Depth (mm)\": 15.0, \"Flipper Length (mm)\": 216.0, \"Body Mass (g)\": 4750.0, \"Sex\": \"FEMALE\"}, {\"Species\": \"Gentoo\", \"Island\": \"Biscoe\", \"Beak Length (mm)\": 46.4, \"Beak Depth (mm)\": 15.6, \"Flipper Length (mm)\": 221.0, \"Body Mass (g)\": 5000.0, \"Sex\": \"MALE\"}, {\"Species\": \"Gentoo\", \"Island\": \"Biscoe\", \"Beak Length (mm)\": 48.2, \"Beak Depth (mm)\": 15.6, \"Flipper Length (mm)\": 221.0, \"Body Mass (g)\": 5100.0, \"Sex\": \"MALE\"}, {\"Species\": \"Gentoo\", \"Island\": \"Biscoe\", \"Beak Length (mm)\": 46.5, \"Beak Depth (mm)\": 14.8, \"Flipper Length (mm)\": 217.0, \"Body Mass (g)\": 5200.0, \"Sex\": \"FEMALE\"}, {\"Species\": \"Gentoo\", \"Island\": \"Biscoe\", \"Beak Length (mm)\": 46.4, \"Beak Depth (mm)\": 15.0, \"Flipper Length (mm)\": 216.0, \"Body Mass (g)\": 4700.0, \"Sex\": \"FEMALE\"}, {\"Species\": \"Gentoo\", \"Island\": \"Biscoe\", \"Beak Length (mm)\": 48.6, \"Beak Depth (mm)\": 16.0, \"Flipper Length (mm)\": 230.0, \"Body Mass (g)\": 5800.0, \"Sex\": \"MALE\"}, {\"Species\": \"Gentoo\", \"Island\": \"Biscoe\", \"Beak Length (mm)\": 47.5, \"Beak Depth (mm)\": 14.2, \"Flipper Length (mm)\": 209.0, \"Body Mass (g)\": 4600.0, \"Sex\": \"FEMALE\"}, {\"Species\": \"Gentoo\", \"Island\": \"Biscoe\", \"Beak Length (mm)\": 51.1, \"Beak Depth (mm)\": 16.3, \"Flipper Length (mm)\": 220.0, \"Body Mass (g)\": 6000.0, \"Sex\": \"MALE\"}, {\"Species\": \"Gentoo\", \"Island\": \"Biscoe\", \"Beak Length (mm)\": 45.2, \"Beak Depth (mm)\": 13.8, \"Flipper Length (mm)\": 215.0, \"Body Mass (g)\": 4750.0, \"Sex\": \"FEMALE\"}, {\"Species\": \"Gentoo\", \"Island\": \"Biscoe\", \"Beak Length (mm)\": 45.2, \"Beak Depth (mm)\": 16.4, \"Flipper Length (mm)\": 223.0, \"Body Mass (g)\": 5950.0, \"Sex\": \"MALE\"}, {\"Species\": \"Gentoo\", \"Island\": \"Biscoe\", \"Beak Length (mm)\": 49.1, \"Beak Depth (mm)\": 14.5, \"Flipper Length (mm)\": 212.0, \"Body Mass (g)\": 4625.0, \"Sex\": \"FEMALE\"}, {\"Species\": \"Gentoo\", \"Island\": \"Biscoe\", \"Beak Length (mm)\": 52.5, \"Beak Depth (mm)\": 15.6, \"Flipper Length (mm)\": 221.0, \"Body Mass (g)\": 5450.0, \"Sex\": \"MALE\"}, {\"Species\": \"Gentoo\", \"Island\": \"Biscoe\", \"Beak Length (mm)\": 47.4, \"Beak Depth (mm)\": 14.6, \"Flipper Length (mm)\": 212.0, \"Body Mass (g)\": 4725.0, \"Sex\": \"FEMALE\"}, {\"Species\": \"Gentoo\", \"Island\": \"Biscoe\", \"Beak Length (mm)\": 50.0, \"Beak Depth (mm)\": 15.9, \"Flipper Length (mm)\": 224.0, \"Body Mass (g)\": 5350.0, \"Sex\": \"MALE\"}, {\"Species\": \"Gentoo\", \"Island\": \"Biscoe\", \"Beak Length (mm)\": 44.9, \"Beak Depth (mm)\": 13.8, \"Flipper Length (mm)\": 212.0, \"Body Mass (g)\": 4750.0, \"Sex\": \"FEMALE\"}, {\"Species\": \"Gentoo\", \"Island\": \"Biscoe\", \"Beak Length (mm)\": 50.8, \"Beak Depth (mm)\": 17.3, \"Flipper Length (mm)\": 228.0, \"Body Mass (g)\": 5600.0, \"Sex\": \"MALE\"}, {\"Species\": \"Gentoo\", \"Island\": \"Biscoe\", \"Beak Length (mm)\": 43.4, \"Beak Depth (mm)\": 14.4, \"Flipper Length (mm)\": 218.0, \"Body Mass (g)\": 4600.0, \"Sex\": \"FEMALE\"}, {\"Species\": \"Gentoo\", \"Island\": \"Biscoe\", \"Beak Length (mm)\": 51.3, \"Beak Depth (mm)\": 14.2, \"Flipper Length (mm)\": 218.0, \"Body Mass (g)\": 5300.0, \"Sex\": \"MALE\"}, {\"Species\": \"Gentoo\", \"Island\": \"Biscoe\", \"Beak Length (mm)\": 47.5, \"Beak Depth (mm)\": 14.0, \"Flipper Length (mm)\": 212.0, \"Body Mass (g)\": 4875.0, \"Sex\": \"FEMALE\"}, {\"Species\": \"Gentoo\", \"Island\": \"Biscoe\", \"Beak Length (mm)\": 52.1, \"Beak Depth (mm)\": 17.0, \"Flipper Length (mm)\": 230.0, \"Body Mass (g)\": 5550.0, \"Sex\": \"MALE\"}, {\"Species\": \"Gentoo\", \"Island\": \"Biscoe\", \"Beak Length (mm)\": 47.5, \"Beak Depth (mm)\": 15.0, \"Flipper Length (mm)\": 218.0, \"Body Mass (g)\": 4950.0, \"Sex\": \"FEMALE\"}, {\"Species\": \"Gentoo\", \"Island\": \"Biscoe\", \"Beak Length (mm)\": 52.2, \"Beak Depth (mm)\": 17.1, \"Flipper Length (mm)\": 228.0, \"Body Mass (g)\": 5400.0, \"Sex\": \"MALE\"}, {\"Species\": \"Gentoo\", \"Island\": \"Biscoe\", \"Beak Length (mm)\": 45.5, \"Beak Depth (mm)\": 14.5, \"Flipper Length (mm)\": 212.0, \"Body Mass (g)\": 4750.0, \"Sex\": \"FEMALE\"}, {\"Species\": \"Gentoo\", \"Island\": \"Biscoe\", \"Beak Length (mm)\": 49.5, \"Beak Depth (mm)\": 16.1, \"Flipper Length (mm)\": 224.0, \"Body Mass (g)\": 5650.0, \"Sex\": \"MALE\"}, {\"Species\": \"Gentoo\", \"Island\": \"Biscoe\", \"Beak Length (mm)\": 44.5, \"Beak Depth (mm)\": 14.7, \"Flipper Length (mm)\": 214.0, \"Body Mass (g)\": 4850.0, \"Sex\": \"FEMALE\"}, {\"Species\": \"Gentoo\", \"Island\": \"Biscoe\", \"Beak Length (mm)\": 50.8, \"Beak Depth (mm)\": 15.7, \"Flipper Length (mm)\": 226.0, \"Body Mass (g)\": 5200.0, \"Sex\": \"MALE\"}, {\"Species\": \"Gentoo\", \"Island\": \"Biscoe\", \"Beak Length (mm)\": 49.4, \"Beak Depth (mm)\": 15.8, \"Flipper Length (mm)\": 216.0, \"Body Mass (g)\": 4925.0, \"Sex\": \"MALE\"}, {\"Species\": \"Gentoo\", \"Island\": \"Biscoe\", \"Beak Length (mm)\": 46.9, \"Beak Depth (mm)\": 14.6, \"Flipper Length (mm)\": 222.0, \"Body Mass (g)\": 4875.0, \"Sex\": \"FEMALE\"}, {\"Species\": \"Gentoo\", \"Island\": \"Biscoe\", \"Beak Length (mm)\": 48.4, \"Beak Depth (mm)\": 14.4, \"Flipper Length (mm)\": 203.0, \"Body Mass (g)\": 4625.0, \"Sex\": \"FEMALE\"}, {\"Species\": \"Gentoo\", \"Island\": \"Biscoe\", \"Beak Length (mm)\": 51.1, \"Beak Depth (mm)\": 16.5, \"Flipper Length (mm)\": 225.0, \"Body Mass (g)\": 5250.0, \"Sex\": \"MALE\"}, {\"Species\": \"Gentoo\", \"Island\": \"Biscoe\", \"Beak Length (mm)\": 48.5, \"Beak Depth (mm)\": 15.0, \"Flipper Length (mm)\": 219.0, \"Body Mass (g)\": 4850.0, \"Sex\": \"FEMALE\"}, {\"Species\": \"Gentoo\", \"Island\": \"Biscoe\", \"Beak Length (mm)\": 55.9, \"Beak Depth (mm)\": 17.0, \"Flipper Length (mm)\": 228.0, \"Body Mass (g)\": 5600.0, \"Sex\": \"MALE\"}, {\"Species\": \"Gentoo\", \"Island\": \"Biscoe\", \"Beak Length (mm)\": 47.2, \"Beak Depth (mm)\": 15.5, \"Flipper Length (mm)\": 215.0, \"Body Mass (g)\": 4975.0, \"Sex\": \"FEMALE\"}, {\"Species\": \"Gentoo\", \"Island\": \"Biscoe\", \"Beak Length (mm)\": 49.1, \"Beak Depth (mm)\": 15.0, \"Flipper Length (mm)\": 228.0, \"Body Mass (g)\": 5500.0, \"Sex\": \"MALE\"}, {\"Species\": \"Gentoo\", \"Island\": \"Biscoe\", \"Beak Length (mm)\": 47.3, \"Beak Depth (mm)\": 13.8, \"Flipper Length (mm)\": 216.0, \"Body Mass (g)\": 4725.0, \"Sex\": NaN}, {\"Species\": \"Gentoo\", \"Island\": \"Biscoe\", \"Beak Length (mm)\": 46.8, \"Beak Depth (mm)\": 16.1, \"Flipper Length (mm)\": 215.0, \"Body Mass (g)\": 5500.0, \"Sex\": \"MALE\"}, {\"Species\": \"Gentoo\", \"Island\": \"Biscoe\", \"Beak Length (mm)\": 41.7, \"Beak Depth (mm)\": 14.7, \"Flipper Length (mm)\": 210.0, \"Body Mass (g)\": 4700.0, \"Sex\": \"FEMALE\"}, {\"Species\": \"Gentoo\", \"Island\": \"Biscoe\", \"Beak Length (mm)\": 53.4, \"Beak Depth (mm)\": 15.8, \"Flipper Length (mm)\": 219.0, \"Body Mass (g)\": 5500.0, \"Sex\": \"MALE\"}, {\"Species\": \"Gentoo\", \"Island\": \"Biscoe\", \"Beak Length (mm)\": 43.3, \"Beak Depth (mm)\": 14.0, \"Flipper Length (mm)\": 208.0, \"Body Mass (g)\": 4575.0, \"Sex\": \"FEMALE\"}, {\"Species\": \"Gentoo\", \"Island\": \"Biscoe\", \"Beak Length (mm)\": 48.1, \"Beak Depth (mm)\": 15.1, \"Flipper Length (mm)\": 209.0, \"Body Mass (g)\": 5500.0, \"Sex\": \"MALE\"}, {\"Species\": \"Gentoo\", \"Island\": \"Biscoe\", \"Beak Length (mm)\": 50.5, \"Beak Depth (mm)\": 15.2, \"Flipper Length (mm)\": 216.0, \"Body Mass (g)\": 5000.0, \"Sex\": \"FEMALE\"}, {\"Species\": \"Gentoo\", \"Island\": \"Biscoe\", \"Beak Length (mm)\": 49.8, \"Beak Depth (mm)\": 15.9, \"Flipper Length (mm)\": 229.0, \"Body Mass (g)\": 5950.0, \"Sex\": \"MALE\"}, {\"Species\": \"Gentoo\", \"Island\": \"Biscoe\", \"Beak Length (mm)\": 43.5, \"Beak Depth (mm)\": 15.2, \"Flipper Length (mm)\": 213.0, \"Body Mass (g)\": 4650.0, \"Sex\": \"FEMALE\"}, {\"Species\": \"Gentoo\", \"Island\": \"Biscoe\", \"Beak Length (mm)\": 51.5, \"Beak Depth (mm)\": 16.3, \"Flipper Length (mm)\": 230.0, \"Body Mass (g)\": 5500.0, \"Sex\": \"MALE\"}, {\"Species\": \"Gentoo\", \"Island\": \"Biscoe\", \"Beak Length (mm)\": 46.2, \"Beak Depth (mm)\": 14.1, \"Flipper Length (mm)\": 217.0, \"Body Mass (g)\": 4375.0, \"Sex\": \"FEMALE\"}, {\"Species\": \"Gentoo\", \"Island\": \"Biscoe\", \"Beak Length (mm)\": 55.1, \"Beak Depth (mm)\": 16.0, \"Flipper Length (mm)\": 230.0, \"Body Mass (g)\": 5850.0, \"Sex\": \"MALE\"}, {\"Species\": \"Gentoo\", \"Island\": \"Biscoe\", \"Beak Length (mm)\": 44.5, \"Beak Depth (mm)\": 15.7, \"Flipper Length (mm)\": 217.0, \"Body Mass (g)\": 4875.0, \"Sex\": \".\"}, {\"Species\": \"Gentoo\", \"Island\": \"Biscoe\", \"Beak Length (mm)\": 48.8, \"Beak Depth (mm)\": 16.2, \"Flipper Length (mm)\": 222.0, \"Body Mass (g)\": 6000.0, \"Sex\": \"MALE\"}, {\"Species\": \"Gentoo\", \"Island\": \"Biscoe\", \"Beak Length (mm)\": 47.2, \"Beak Depth (mm)\": 13.7, \"Flipper Length (mm)\": 214.0, \"Body Mass (g)\": 4925.0, \"Sex\": \"FEMALE\"}, {\"Species\": \"Gentoo\", \"Island\": \"Biscoe\", \"Beak Length (mm)\": NaN, \"Beak Depth (mm)\": NaN, \"Flipper Length (mm)\": NaN, \"Body Mass (g)\": NaN, \"Sex\": NaN}, {\"Species\": \"Gentoo\", \"Island\": \"Biscoe\", \"Beak Length (mm)\": 46.8, \"Beak Depth (mm)\": 14.3, \"Flipper Length (mm)\": 215.0, \"Body Mass (g)\": 4850.0, \"Sex\": \"FEMALE\"}, {\"Species\": \"Gentoo\", \"Island\": \"Biscoe\", \"Beak Length (mm)\": 50.4, \"Beak Depth (mm)\": 15.7, \"Flipper Length (mm)\": 222.0, \"Body Mass (g)\": 5750.0, \"Sex\": \"MALE\"}, {\"Species\": \"Gentoo\", \"Island\": \"Biscoe\", \"Beak Length (mm)\": 45.2, \"Beak Depth (mm)\": 14.8, \"Flipper Length (mm)\": 212.0, \"Body Mass (g)\": 5200.0, \"Sex\": \"FEMALE\"}, {\"Species\": \"Gentoo\", \"Island\": \"Biscoe\", \"Beak Length (mm)\": 49.9, \"Beak Depth (mm)\": 16.1, \"Flipper Length (mm)\": 213.0, \"Body Mass (g)\": 5400.0, \"Sex\": \"MALE\"}]}}, {\"mode\": \"vega-lite\"});\n",
       "</script>"
      ],
      "text/plain": [
       "alt.Chart(...)"
      ]
     },
     "execution_count": 10,
     "metadata": {},
     "output_type": "execute_result"
    }
   ],
   "source": [
    "## select the top chart and render it by VegaLiteRender \n",
    "recommend_chart = recommended_charts.iloc[0]\n",
    "vr = VegaLiteRender(chart_type = recommend_chart['chart_type'], columns = recommend_chart['fields'], data = chartRecommender.df.to_dict('records'))\n",
    "\n",
    "alt.Chart.from_dict(vr.vSpec)"
   ]
  },
  {
   "cell_type": "markdown",
   "metadata": {},
   "source": [
    "## MV Recommender\n",
    "Return a MV.\n",
    "- a MV is describled as a list of charts (corresponding to each record in the above charts_df)\n",
    "- current_mv: optional. \n",
    "- max_charts: number of charts in the returned MV"
   ]
  },
  {
   "cell_type": "code",
   "execution_count": 11,
   "metadata": {},
   "outputs": [
    {
     "data": {
      "text/plain": [
       "ScoreNetLSTM(\n",
       "  (lstm): LSTM(9, 200, batch_first=True)\n",
       "  (linear): Linear(in_features=2400, out_features=1, bias=True)\n",
       ")"
      ]
     },
     "execution_count": 11,
     "metadata": {},
     "output_type": "execute_result"
    }
   ],
   "source": [
    "## load model\n",
    "mv_model = ScoreNetLSTM(input_size=9, seq_length = 12).to(gpu)\n",
    "mv_model.load_state_dict(torch.load('trainedModel/mvModel.pt', map_location=gpu))\n",
    "mv_model.eval()"
   ]
  },
  {
   "cell_type": "code",
   "execution_count": 12,
   "metadata": {},
   "outputs": [],
   "source": [
    "chartRecommender = ChartRecommender(df, \n",
    "                                    word_embedding_dict, column_score_model, chart_type_model)"
   ]
  },
  {
   "cell_type": "code",
   "execution_count": 13,
   "metadata": {},
   "outputs": [
    {
     "data": {
      "text/plain": [
       "[{'indices': (1,), 'chart_type': 'pie'},\n",
       " {'indices': (0, 1, 2),\n",
       "  'fields': [{'name': 'Species', 'index': 0, 'type': 'nominal'},\n",
       "   {'name': 'Island', 'index': 1, 'type': 'nominal'},\n",
       "   {'name': 'Beak Length (mm)', 'index': 2, 'type': 'quantitative'}],\n",
       "  'column_selection_score': 0.5052524224607513,\n",
       "  'chart_type': 'scatter',\n",
       "  'chart_type_prob': 5.608765506310378e-23,\n",
       "  'final_score': 2.833842359077621e-23,\n",
       "  'n_column': 3}]"
      ]
     },
     "execution_count": 13,
     "metadata": {},
     "output_type": "execute_result"
    }
   ],
   "source": [
    "## Recommending an MV conditioned on current_mv\n",
    "current_mv = [{'indices': (1,), 'chart_type': 'pie'}]\n",
    "chartRecommender.recommend_mv(mv_model, current_mv = current_mv, max_charts = len(current_mv) + 1)"
   ]
  },
  {
   "cell_type": "code",
   "execution_count": 14,
   "metadata": {},
   "outputs": [
    {
     "data": {
      "text/plain": [
       "196"
      ]
     },
     "execution_count": 14,
     "metadata": {},
     "output_type": "execute_result"
    }
   ],
   "source": [
    "len(chartRecommender.charts)"
   ]
  },
  {
   "cell_type": "code",
   "execution_count": 15,
   "metadata": {},
   "outputs": [
    {
     "data": {
      "text/plain": [
       "[{'indices': (0, 1, 2),\n",
       "  'fields': [{'name': 'Species', 'index': 0, 'type': 'nominal'},\n",
       "   {'name': 'Island', 'index': 1, 'type': 'nominal'},\n",
       "   {'name': 'Beak Length (mm)', 'index': 2, 'type': 'quantitative'}],\n",
       "  'column_selection_score': 0.5052524224607513,\n",
       "  'chart_type': 'bar',\n",
       "  'chart_type_prob': 5.332800072158923e-10,\n",
       "  'final_score': 2.6944101549571655e-10,\n",
       "  'n_column': 3},\n",
       " {'indices': (0, 1, 3),\n",
       "  'fields': [{'name': 'Species', 'index': 0, 'type': 'nominal'},\n",
       "   {'name': 'Island', 'index': 1, 'type': 'nominal'},\n",
       "   {'name': 'Beak Depth (mm)', 'index': 3, 'type': 'quantitative'}],\n",
       "  'column_selection_score': 0.4839125316872903,\n",
       "  'chart_type': 'scatter',\n",
       "  'chart_type_prob': 4.854947393857243e-22,\n",
       "  'final_score': 2.349369884570071e-22,\n",
       "  'n_column': 3},\n",
       " {'indices': (0, 1, 4),\n",
       "  'fields': [{'name': 'Species', 'index': 0, 'type': 'nominal'},\n",
       "   {'name': 'Island', 'index': 1, 'type': 'nominal'},\n",
       "   {'name': 'Flipper Length (mm)', 'index': 4, 'type': 'quantitative'}],\n",
       "  'column_selection_score': 0.44494120732436493,\n",
       "  'chart_type': 'scatter',\n",
       "  'chart_type_prob': 6.85350136620123e-21,\n",
       "  'final_score': 3.0494051722767598e-21,\n",
       "  'n_column': 3},\n",
       " {'indices': (0, 1, 5),\n",
       "  'fields': [{'name': 'Species', 'index': 0, 'type': 'nominal'},\n",
       "   {'name': 'Island', 'index': 1, 'type': 'nominal'},\n",
       "   {'name': 'Body Mass (g)', 'index': 5, 'type': 'quantitative'}],\n",
       "  'column_selection_score': 0.43521884038820124,\n",
       "  'chart_type': 'scatter',\n",
       "  'chart_type_prob': 2.3916210006889257e-22,\n",
       "  'final_score': 1.0408785185679037e-22,\n",
       "  'n_column': 3}]"
      ]
     },
     "execution_count": 15,
     "metadata": {},
     "output_type": "execute_result"
    }
   ],
   "source": [
    "## Recommending an MV without conditions\n",
    "chartRecommender.recommend_mv(mv_model, current_mv = [], max_charts = 4)"
   ]
  },
  {
   "cell_type": "code",
   "execution_count": null,
   "metadata": {},
   "outputs": [],
   "source": []
  },
  {
   "cell_type": "code",
   "execution_count": null,
   "metadata": {},
   "outputs": [],
   "source": []
  },
  {
   "cell_type": "code",
   "execution_count": null,
   "metadata": {},
   "outputs": [],
   "source": []
  }
 ],
 "metadata": {
  "kernelspec": {
   "display_name": "Python 3",
   "language": "python",
   "name": "python3"
  },
  "language_info": {
   "codemirror_mode": {
    "name": "ipython",
    "version": 3
   },
   "file_extension": ".py",
   "mimetype": "text/x-python",
   "name": "python",
   "nbconvert_exporter": "python",
   "pygments_lexer": "ipython3",
   "version": "3.6.9"
  }
 },
 "nbformat": 4,
 "nbformat_minor": 5
}
